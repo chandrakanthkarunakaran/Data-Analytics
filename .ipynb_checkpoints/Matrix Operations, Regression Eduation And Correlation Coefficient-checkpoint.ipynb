{
 "cells": [
  {
   "cell_type": "code",
   "execution_count": 5,
   "id": "34c395ca",
   "metadata": {},
   "outputs": [],
   "source": [
    "# Matrix Addition"
   ]
  },
  {
   "cell_type": "code",
   "execution_count": 1,
   "id": "5e0e5e8c",
   "metadata": {},
   "outputs": [],
   "source": [
    "a=[[1,2,3],[4,5,6]]\n",
    "b=[[2,4,6],[8,10,12]]"
   ]
  },
  {
   "cell_type": "code",
   "execution_count": 2,
   "id": "867dd94b",
   "metadata": {},
   "outputs": [
    {
     "data": {
      "text/plain": [
       "[([1, 2, 3], [2, 4, 6]), ([4, 5, 6], [8, 10, 12])]"
      ]
     },
     "execution_count": 2,
     "metadata": {},
     "output_type": "execute_result"
    }
   ],
   "source": [
    "list(zip(a,b))"
   ]
  },
  {
   "cell_type": "code",
   "execution_count": 3,
   "id": "1e84bed0",
   "metadata": {},
   "outputs": [],
   "source": [
    "matrixAddResult=[]\n",
    "\n",
    "for x,y in zip(a,b):\n",
    "    \n",
    "    rowAddResult=[x[i]+y[i] for i in range(len(x))]\n",
    "    \n",
    "    matrixAddResult.append(rowAddResult)"
   ]
  },
  {
   "cell_type": "code",
   "execution_count": 4,
   "id": "4f5ac9b6",
   "metadata": {},
   "outputs": [
    {
     "data": {
      "text/plain": [
       "[[3, 6, 9], [12, 15, 18]]"
      ]
     },
     "execution_count": 4,
     "metadata": {},
     "output_type": "execute_result"
    }
   ],
   "source": [
    "matrixAddResult"
   ]
  },
  {
   "cell_type": "code",
   "execution_count": 6,
   "id": "e3362aa1",
   "metadata": {},
   "outputs": [],
   "source": [
    "# Matrix Subtraction"
   ]
  },
  {
   "cell_type": "code",
   "execution_count": 7,
   "id": "ab9aece2",
   "metadata": {},
   "outputs": [],
   "source": [
    "matrixSubtractResult=[]\n",
    "\n",
    "for x,y in zip(a,b):\n",
    "    \n",
    "    rowSubtractResult=[x[i]-y[i] for i in range(len(x))]\n",
    "    \n",
    "    matrixSubtractResult.append(rowSubtractResult)"
   ]
  },
  {
   "cell_type": "code",
   "execution_count": 8,
   "id": "b036b9aa",
   "metadata": {},
   "outputs": [
    {
     "data": {
      "text/plain": [
       "[[-1, -2, -3], [-4, -5, -6]]"
      ]
     },
     "execution_count": 8,
     "metadata": {},
     "output_type": "execute_result"
    }
   ],
   "source": [
    "matrixSubtractResult"
   ]
  },
  {
   "cell_type": "code",
   "execution_count": 9,
   "id": "a345cb75",
   "metadata": {},
   "outputs": [],
   "source": [
    "# Matrix Multiplication"
   ]
  },
  {
   "cell_type": "code",
   "execution_count": 10,
   "id": "2c896628",
   "metadata": {},
   "outputs": [
    {
     "data": {
      "text/plain": [
       "[[1, 2, 3], [4, 5, 6]]"
      ]
     },
     "execution_count": 10,
     "metadata": {},
     "output_type": "execute_result"
    }
   ],
   "source": [
    "a"
   ]
  },
  {
   "cell_type": "code",
   "execution_count": 12,
   "id": "f68be690",
   "metadata": {},
   "outputs": [],
   "source": [
    "b1=[[1],[2],[3]]"
   ]
  },
  {
   "cell_type": "code",
   "execution_count": 13,
   "id": "7a744998",
   "metadata": {},
   "outputs": [
    {
     "data": {
      "text/plain": [
       "[[1], [2], [3]]"
      ]
     },
     "execution_count": 13,
     "metadata": {},
     "output_type": "execute_result"
    }
   ],
   "source": [
    "b1"
   ]
  },
  {
   "cell_type": "code",
   "execution_count": 14,
   "id": "a68da97c",
   "metadata": {},
   "outputs": [
    {
     "data": {
      "text/plain": [
       "14"
      ]
     },
     "execution_count": 14,
     "metadata": {},
     "output_type": "execute_result"
    }
   ],
   "source": [
    "(1*1)+(2*2)+(3*3)"
   ]
  },
  {
   "cell_type": "code",
   "execution_count": 15,
   "id": "b1d205ca",
   "metadata": {},
   "outputs": [
    {
     "data": {
      "text/plain": [
       "32"
      ]
     },
     "execution_count": 15,
     "metadata": {},
     "output_type": "execute_result"
    }
   ],
   "source": [
    "(4*1)+(5*2)+(6*3)"
   ]
  },
  {
   "cell_type": "code",
   "execution_count": 16,
   "id": "6e24039b",
   "metadata": {},
   "outputs": [
    {
     "data": {
      "text/plain": [
       "[[14], [32]]"
      ]
     },
     "execution_count": 16,
     "metadata": {},
     "output_type": "execute_result"
    }
   ],
   "source": [
    "[[14],[32]]"
   ]
  },
  {
   "cell_type": "code",
   "execution_count": 17,
   "id": "8eaa9929",
   "metadata": {},
   "outputs": [],
   "source": [
    "import numpy as np"
   ]
  },
  {
   "cell_type": "code",
   "execution_count": 22,
   "id": "a0dc7a89",
   "metadata": {},
   "outputs": [],
   "source": [
    "a=np.array(a)\n",
    "b=np.array([[1,2],[2,3],[3,4]])"
   ]
  },
  {
   "cell_type": "code",
   "execution_count": 23,
   "id": "93e089ec",
   "metadata": {},
   "outputs": [
    {
     "data": {
      "text/plain": [
       "array([[1, 2, 3],\n",
       "       [4, 5, 6]])"
      ]
     },
     "execution_count": 23,
     "metadata": {},
     "output_type": "execute_result"
    }
   ],
   "source": [
    "a"
   ]
  },
  {
   "cell_type": "code",
   "execution_count": 24,
   "id": "ab3a9b26",
   "metadata": {},
   "outputs": [
    {
     "data": {
      "text/plain": [
       "array([[1, 2],\n",
       "       [2, 3],\n",
       "       [3, 4]])"
      ]
     },
     "execution_count": 24,
     "metadata": {},
     "output_type": "execute_result"
    }
   ],
   "source": [
    "b"
   ]
  },
  {
   "cell_type": "code",
   "execution_count": 25,
   "id": "9f0c38fa",
   "metadata": {},
   "outputs": [
    {
     "data": {
      "text/plain": [
       "array([[14, 20],\n",
       "       [32, 47]])"
      ]
     },
     "execution_count": 25,
     "metadata": {},
     "output_type": "execute_result"
    }
   ],
   "source": [
    "np.matmul(a,b)"
   ]
  },
  {
   "cell_type": "code",
   "execution_count": 26,
   "id": "808df075",
   "metadata": {},
   "outputs": [
    {
     "data": {
      "text/plain": [
       "14"
      ]
     },
     "execution_count": 26,
     "metadata": {},
     "output_type": "execute_result"
    }
   ],
   "source": [
    "1*1+2*2+3*3"
   ]
  },
  {
   "cell_type": "code",
   "execution_count": 27,
   "id": "6da6b454",
   "metadata": {},
   "outputs": [
    {
     "data": {
      "text/plain": [
       "20"
      ]
     },
     "execution_count": 27,
     "metadata": {},
     "output_type": "execute_result"
    }
   ],
   "source": [
    "1*2+2*3+3*4"
   ]
  },
  {
   "cell_type": "code",
   "execution_count": 28,
   "id": "2ecdfa2a",
   "metadata": {},
   "outputs": [
    {
     "data": {
      "text/plain": [
       "32"
      ]
     },
     "execution_count": 28,
     "metadata": {},
     "output_type": "execute_result"
    }
   ],
   "source": [
    "4*1+5*2+6*3"
   ]
  },
  {
   "cell_type": "code",
   "execution_count": 29,
   "id": "afe3e440",
   "metadata": {},
   "outputs": [
    {
     "data": {
      "text/plain": [
       "47"
      ]
     },
     "execution_count": 29,
     "metadata": {},
     "output_type": "execute_result"
    }
   ],
   "source": [
    "4*2+5*3+6*4"
   ]
  },
  {
   "cell_type": "markdown",
   "id": "e5614931",
   "metadata": {},
   "source": [
    "Regression Equation"
   ]
  },
  {
   "cell_type": "code",
   "execution_count": 32,
   "id": "33e284f4",
   "metadata": {},
   "outputs": [],
   "source": [
    "# y=ax+c\n",
    "\n",
    "# y=price\n",
    "# x =num Features\n",
    "# a = coeff of variable x\n",
    "# c = y-axis intercept \n",
    "\n",
    "\n",
    "# Multiple Variables\n",
    "\n",
    "# y=ax1+bx2+c\n"
   ]
  },
  {
   "cell_type": "code",
   "execution_count": 33,
   "id": "e5dcf69a",
   "metadata": {},
   "outputs": [],
   "source": [
    "import matplotlib.pyplot as plt\n",
    "import pandas as pd"
   ]
  },
  {
   "cell_type": "code",
   "execution_count": 34,
   "id": "90df0c1f",
   "metadata": {},
   "outputs": [],
   "source": [
    "data=pd.read_csv(\"RegressionExample/advertising.csv\")"
   ]
  },
  {
   "cell_type": "code",
   "execution_count": 36,
   "id": "172283c0",
   "metadata": {},
   "outputs": [
    {
     "data": {
      "text/html": [
       "<div>\n",
       "<style scoped>\n",
       "    .dataframe tbody tr th:only-of-type {\n",
       "        vertical-align: middle;\n",
       "    }\n",
       "\n",
       "    .dataframe tbody tr th {\n",
       "        vertical-align: top;\n",
       "    }\n",
       "\n",
       "    .dataframe thead th {\n",
       "        text-align: right;\n",
       "    }\n",
       "</style>\n",
       "<table border=\"1\" class=\"dataframe\">\n",
       "  <thead>\n",
       "    <tr style=\"text-align: right;\">\n",
       "      <th></th>\n",
       "      <th>TV</th>\n",
       "      <th>Radio</th>\n",
       "      <th>Newspaper</th>\n",
       "      <th>Sales</th>\n",
       "    </tr>\n",
       "  </thead>\n",
       "  <tbody>\n",
       "    <tr>\n",
       "      <th>0</th>\n",
       "      <td>230.1</td>\n",
       "      <td>37.8</td>\n",
       "      <td>69.2</td>\n",
       "      <td>22.1</td>\n",
       "    </tr>\n",
       "    <tr>\n",
       "      <th>1</th>\n",
       "      <td>44.5</td>\n",
       "      <td>39.3</td>\n",
       "      <td>45.1</td>\n",
       "      <td>10.4</td>\n",
       "    </tr>\n",
       "    <tr>\n",
       "      <th>2</th>\n",
       "      <td>17.2</td>\n",
       "      <td>45.9</td>\n",
       "      <td>69.3</td>\n",
       "      <td>12.0</td>\n",
       "    </tr>\n",
       "    <tr>\n",
       "      <th>3</th>\n",
       "      <td>151.5</td>\n",
       "      <td>41.3</td>\n",
       "      <td>58.5</td>\n",
       "      <td>16.5</td>\n",
       "    </tr>\n",
       "    <tr>\n",
       "      <th>4</th>\n",
       "      <td>180.8</td>\n",
       "      <td>10.8</td>\n",
       "      <td>58.4</td>\n",
       "      <td>17.9</td>\n",
       "    </tr>\n",
       "    <tr>\n",
       "      <th>...</th>\n",
       "      <td>...</td>\n",
       "      <td>...</td>\n",
       "      <td>...</td>\n",
       "      <td>...</td>\n",
       "    </tr>\n",
       "    <tr>\n",
       "      <th>195</th>\n",
       "      <td>38.2</td>\n",
       "      <td>3.7</td>\n",
       "      <td>13.8</td>\n",
       "      <td>7.6</td>\n",
       "    </tr>\n",
       "    <tr>\n",
       "      <th>196</th>\n",
       "      <td>94.2</td>\n",
       "      <td>4.9</td>\n",
       "      <td>8.1</td>\n",
       "      <td>14.0</td>\n",
       "    </tr>\n",
       "    <tr>\n",
       "      <th>197</th>\n",
       "      <td>177.0</td>\n",
       "      <td>9.3</td>\n",
       "      <td>6.4</td>\n",
       "      <td>14.8</td>\n",
       "    </tr>\n",
       "    <tr>\n",
       "      <th>198</th>\n",
       "      <td>283.6</td>\n",
       "      <td>42.0</td>\n",
       "      <td>66.2</td>\n",
       "      <td>25.5</td>\n",
       "    </tr>\n",
       "    <tr>\n",
       "      <th>199</th>\n",
       "      <td>232.1</td>\n",
       "      <td>8.6</td>\n",
       "      <td>8.7</td>\n",
       "      <td>18.4</td>\n",
       "    </tr>\n",
       "  </tbody>\n",
       "</table>\n",
       "<p>200 rows × 4 columns</p>\n",
       "</div>"
      ],
      "text/plain": [
       "        TV  Radio  Newspaper  Sales\n",
       "0    230.1   37.8       69.2   22.1\n",
       "1     44.5   39.3       45.1   10.4\n",
       "2     17.2   45.9       69.3   12.0\n",
       "3    151.5   41.3       58.5   16.5\n",
       "4    180.8   10.8       58.4   17.9\n",
       "..     ...    ...        ...    ...\n",
       "195   38.2    3.7       13.8    7.6\n",
       "196   94.2    4.9        8.1   14.0\n",
       "197  177.0    9.3        6.4   14.8\n",
       "198  283.6   42.0       66.2   25.5\n",
       "199  232.1    8.6        8.7   18.4\n",
       "\n",
       "[200 rows x 4 columns]"
      ]
     },
     "execution_count": 36,
     "metadata": {},
     "output_type": "execute_result"
    }
   ],
   "source": [
    "data"
   ]
  },
  {
   "cell_type": "code",
   "execution_count": 38,
   "id": "e26f3797",
   "metadata": {},
   "outputs": [
    {
     "data": {
      "image/png": "[encoded data removed]",
      "text/plain": [
       "<Figure size 432x288 with 1 Axes>"
      ]
     },
     "metadata": {
      "needs_background": "light"
     },
     "output_type": "display_data"
    }
   ],
   "source": [
    "plt.scatter(x=data[\"TV\"],y=data[\"Sales\"],marker=\"o\",edgecolors=\"black\")\n",
    "plt.title(\"Advertisement On TV and Sales Achieved\")\n",
    "plt.show()"
   ]
  },
  {
   "cell_type": "code",
   "execution_count": 42,
   "id": "8017860f",
   "metadata": {},
   "outputs": [],
   "source": [
    " # y=ax+c\n",
    " # a=(y-c)/x"
   ]
  },
  {
   "cell_type": "code",
   "execution_count": 58,
   "id": "4cea2c09",
   "metadata": {},
   "outputs": [],
   "source": [
    "lineTrial1=[(0,5),(300,25)]"
   ]
  },
  {
   "cell_type": "code",
   "execution_count": 59,
   "id": "d9103d1d",
   "metadata": {},
   "outputs": [],
   "source": [
    "aLine1=(25-5)/300"
   ]
  },
  {
   "cell_type": "code",
   "execution_count": 60,
   "id": "e9eb7aee",
   "metadata": {},
   "outputs": [
    {
     "data": {
      "text/plain": [
       "0.06666666666666667"
      ]
     },
     "execution_count": 60,
     "metadata": {},
     "output_type": "execute_result"
    }
   ],
   "source": [
    "aLine1"
   ]
  },
  {
   "cell_type": "code",
   "execution_count": 61,
   "id": "f9312c40",
   "metadata": {},
   "outputs": [],
   "source": [
    "predictedOPLine1=[(aLine1*x)+5 for x in list(data[\"TV\"])]"
   ]
  },
  {
   "cell_type": "code",
   "execution_count": 62,
   "id": "bcfb539a",
   "metadata": {},
   "outputs": [
    {
     "data": {
      "text/plain": [
       "[20.34,\n",
       " 7.966666666666667,\n",
       " 6.1466666666666665,\n",
       " 15.1,\n",
       " 17.053333333333335,\n",
       " 5.58,\n",
       " 8.833333333333334,\n",
       " 13.013333333333334,\n",
       " 5.573333333333333,\n",
       " 18.32,\n",
       " 9.406666666666666,\n",
       " 19.313333333333333,\n",
       " 6.586666666666667,\n",
       " 11.5,\n",
       " 18.606666666666666,\n",
       " 18.026666666666667,\n",
       " 9.52,\n",
       " 23.759999999999998,\n",
       " 9.613333333333333,\n",
       " 14.82,\n",
       " 19.560000000000002,\n",
       " 20.826666666666668,\n",
       " 5.88,\n",
       " 20.22,\n",
       " 9.153333333333332,\n",
       " 22.526666666666664,\n",
       " 14.526666666666667,\n",
       " 21.006666666666668,\n",
       " 21.586666666666666,\n",
       " 9.706666666666667,\n",
       " 24.526666666666664,\n",
       " 12.526666666666667,\n",
       " 11.48,\n",
       " 22.706666666666667,\n",
       " 11.379999999999999,\n",
       " 24.38,\n",
       " 22.793333333333333,\n",
       " 9.98,\n",
       " 7.873333333333333,\n",
       " 20.2,\n",
       " 18.5,\n",
       " 16.8,\n",
       " 24.573333333333334,\n",
       " 18.793333333333333,\n",
       " 6.673333333333334,\n",
       " 16.673333333333332,\n",
       " 10.98,\n",
       " 20.993333333333332,\n",
       " 20.14666666666667,\n",
       " 9.46,\n",
       " 18.32,\n",
       " 11.693333333333333,\n",
       " 19.42666666666667,\n",
       " 17.173333333333332,\n",
       " 22.513333333333332,\n",
       " 18.259999999999998,\n",
       " 5.486666666666666,\n",
       " 14.079999999999998,\n",
       " 19.053333333333335,\n",
       " 19.046666666666667,\n",
       " 8.566666666666666,\n",
       " 22.42,\n",
       " 20.953333333333333,\n",
       " 11.846666666666668,\n",
       " 13.74,\n",
       " 9.6,\n",
       " 7.1,\n",
       " 14.286666666666667,\n",
       " 20.826666666666668,\n",
       " 19.453333333333333,\n",
       " 18.273333333333333,\n",
       " 12.32,\n",
       " 6.786666666666667,\n",
       " 13.626666666666667,\n",
       " 19.226666666666667,\n",
       " 6.126666666666667,\n",
       " 6.833333333333333,\n",
       " 13.033333333333333,\n",
       " 5.36,\n",
       " 12.733333333333334,\n",
       " 10.093333333333334,\n",
       " 20.986666666666665,\n",
       " 10.02,\n",
       " 9.56,\n",
       " 19.233333333333334,\n",
       " 17.88,\n",
       " 10.086666666666666,\n",
       " 12.379999999999999,\n",
       " 10.886666666666667,\n",
       " 12.32,\n",
       " 13.953333333333333,\n",
       " 6.906666666666666,\n",
       " 19.513333333333332,\n",
       " 21.726666666666667,\n",
       " 12.16,\n",
       " 15.886666666666667,\n",
       " 18.173333333333332,\n",
       " 17.326666666666668,\n",
       " 24.313333333333333,\n",
       " 14.013333333333332,\n",
       " 19.826666666666668,\n",
       " 24.759999999999998,\n",
       " 23.68,\n",
       " 17.526666666666667,\n",
       " 20.88,\n",
       " 14.193333333333333,\n",
       " 6.666666666666667,\n",
       " 11.026666666666667,\n",
       " 5.873333333333333,\n",
       " 22.026666666666667,\n",
       " 20.053333333333335,\n",
       " 21.113333333333333,\n",
       " 16.71333333333333,\n",
       " 18.973333333333333,\n",
       " 10.213333333333335,\n",
       " 10.006666666666666,\n",
       " 14.28,\n",
       " 10.093333333333334,\n",
       " 13.38,\n",
       " 6.293333333333333,\n",
       " 14.42,\n",
       " 6.253333333333334,\n",
       " 19.933333333333334,\n",
       " 13.206666666666667,\n",
       " 20.299999999999997,\n",
       " 10.813333333333333,\n",
       " 5.52,\n",
       " 10.346666666666668,\n",
       " 19.686666666666667,\n",
       " 8.973333333333333,\n",
       " 5.046666666666667,\n",
       " 22.68,\n",
       " 5.5600000000000005,\n",
       " 19.653333333333336,\n",
       " 7.46,\n",
       " 8.219999999999999,\n",
       " 6.706666666666667,\n",
       " 23.246666666666666,\n",
       " 7.866666666666667,\n",
       " 17.326666666666668,\n",
       " 9.893333333333334,\n",
       " 17.913333333333334,\n",
       " 19.7,\n",
       " 11.973333333333333,\n",
       " 11.413333333333334,\n",
       " 14.353333333333333,\n",
       " 21.006666666666668,\n",
       " 21.21333333333333,\n",
       " 7.533333333333333,\n",
       " 7.98,\n",
       " 23.71333333333333,\n",
       " 13.066666666666666,\n",
       " 18.173333333333332,\n",
       " 16.42,\n",
       " 17.520000000000003,\n",
       " 5.273333333333333,\n",
       " 11.260000000000002,\n",
       " 14.986666666666668,\n",
       " 5.78,\n",
       " 13.78,\n",
       " 16.5,\n",
       " 10.713333333333335,\n",
       " 17.560000000000002,\n",
       " 15.9,\n",
       " 12.813333333333333,\n",
       " 20.633333333333333,\n",
       " 6.193333333333333,\n",
       " 18.78666666666667,\n",
       " 19.36,\n",
       " 23.953333333333333,\n",
       " 8.333333333333334,\n",
       " 15.966666666666667,\n",
       " 6.306666666666667,\n",
       " 16.226666666666667,\n",
       " 19.826666666666668,\n",
       " 23.459999999999997,\n",
       " 21.56,\n",
       " 16.346666666666664,\n",
       " 23.446666666666665,\n",
       " 16.04,\n",
       " 15.44,\n",
       " 19.566666666666666,\n",
       " 8.746666666666666,\n",
       " 24.173333333333336,\n",
       " 21.92,\n",
       " 18.666666666666664,\n",
       " 14.3,\n",
       " 17.740000000000002,\n",
       " 24.066666666666666,\n",
       " 6.246666666666666,\n",
       " 7.633333333333333,\n",
       " 10.033333333333333,\n",
       " 6.1466666666666665,\n",
       " 16.12,\n",
       " 14.979999999999999,\n",
       " 7.546666666666667,\n",
       " 11.280000000000001,\n",
       " 16.8,\n",
       " 23.906666666666666,\n",
       " 20.473333333333333]"
      ]
     },
     "execution_count": 62,
     "metadata": {},
     "output_type": "execute_result"
    }
   ],
   "source": [
    "list(predictedOPLine1)"
   ]
  },
  {
   "cell_type": "code",
   "execution_count": 53,
   "id": "e6205542",
   "metadata": {},
   "outputs": [],
   "source": [
    "lineTrial2=[(0,5),(250,25)]"
   ]
  },
  {
   "cell_type": "code",
   "execution_count": 56,
   "id": "54a93cc9",
   "metadata": {},
   "outputs": [
    {
     "data": {
      "image/png": "[encoded data removed]",
      "text/plain": [
       "<Figure size 432x288 with 1 Axes>"
      ]
     },
     "metadata": {
      "needs_background": "light"
     },
     "output_type": "display_data"
    }
   ],
   "source": [
    "plt.scatter(x=data[\"TV\"],y=data[\"Sales\"],marker=\"o\",edgecolors=\"black\")\n",
    "plt.plot([0,300],[5,25],label=\"lineTrial1\")\n",
    "plt.plot([0,250],[5,25],label=\"lineTrial2\")\n",
    "plt.legend([\"ActualSales\",\"lineTrial1\",\"lineTrial2\"])\n",
    "plt.show()"
   ]
  },
  {
   "cell_type": "code",
   "execution_count": 63,
   "id": "172ddf79",
   "metadata": {},
   "outputs": [],
   "source": [
    "aLine2=(25-5)/250"
   ]
  },
  {
   "cell_type": "code",
   "execution_count": 64,
   "id": "15282dfe",
   "metadata": {},
   "outputs": [],
   "source": [
    "predictedOPLine2=[(aLine2*x)+5 for x in list(data[\"TV\"])]"
   ]
  },
  {
   "cell_type": "code",
   "execution_count": 65,
   "id": "f7f1c9e6",
   "metadata": {},
   "outputs": [
    {
     "data": {
      "text/plain": [
       "[23.408,\n",
       " 8.56,\n",
       " 6.3759999999999994,\n",
       " 17.12,\n",
       " 19.464,\n",
       " 5.696,\n",
       " 9.600000000000001,\n",
       " 14.616,\n",
       " 5.688,\n",
       " 20.984,\n",
       " 10.288,\n",
       " 22.176,\n",
       " 6.904,\n",
       " 12.8,\n",
       " 21.328,\n",
       " 20.632,\n",
       " 10.424,\n",
       " 27.511999999999997,\n",
       " 10.536000000000001,\n",
       " 16.784,\n",
       " 22.472,\n",
       " 23.992,\n",
       " 6.056,\n",
       " 23.264000000000003,\n",
       " 9.984,\n",
       " 26.032,\n",
       " 16.432000000000002,\n",
       " 24.208,\n",
       " 24.904,\n",
       " 10.648,\n",
       " 28.432,\n",
       " 14.032,\n",
       " 12.776,\n",
       " 26.248,\n",
       " 12.656,\n",
       " 28.256,\n",
       " 26.352,\n",
       " 10.975999999999999,\n",
       " 8.448,\n",
       " 23.240000000000002,\n",
       " 21.2,\n",
       " 19.16,\n",
       " 28.488000000000003,\n",
       " 21.552,\n",
       " 7.008,\n",
       " 19.008,\n",
       " 12.176,\n",
       " 24.192,\n",
       " 23.176,\n",
       " 10.352,\n",
       " 20.984,\n",
       " 13.032,\n",
       " 22.312,\n",
       " 19.608,\n",
       " 26.016,\n",
       " 20.912,\n",
       " 5.584,\n",
       " 15.895999999999999,\n",
       " 21.864,\n",
       " 21.855999999999998,\n",
       " 9.280000000000001,\n",
       " 25.904,\n",
       " 24.144000000000002,\n",
       " 13.216000000000001,\n",
       " 15.488,\n",
       " 10.52,\n",
       " 7.52,\n",
       " 16.144000000000002,\n",
       " 23.992,\n",
       " 22.344,\n",
       " 20.927999999999997,\n",
       " 13.784,\n",
       " 7.144,\n",
       " 15.352,\n",
       " 22.072,\n",
       " 6.352,\n",
       " 7.2,\n",
       " 14.64,\n",
       " 5.432,\n",
       " 14.28,\n",
       " 11.112000000000002,\n",
       " 24.184,\n",
       " 11.024000000000001,\n",
       " 10.472000000000001,\n",
       " 22.080000000000002,\n",
       " 20.456,\n",
       " 11.104,\n",
       " 13.856,\n",
       " 12.064,\n",
       " 13.784,\n",
       " 15.744000000000002,\n",
       " 7.288,\n",
       " 22.416,\n",
       " 25.072,\n",
       " 13.592,\n",
       " 18.064,\n",
       " 20.808,\n",
       " 19.792,\n",
       " 28.176,\n",
       " 15.815999999999999,\n",
       " 22.792,\n",
       " 28.712,\n",
       " 27.416,\n",
       " 20.032,\n",
       " 24.056,\n",
       " 16.032,\n",
       " 7.0,\n",
       " 12.232,\n",
       " 6.048,\n",
       " 25.432000000000002,\n",
       " 23.064,\n",
       " 24.336,\n",
       " 19.055999999999997,\n",
       " 21.768,\n",
       " 11.256,\n",
       " 11.008,\n",
       " 16.136,\n",
       " 11.112000000000002,\n",
       " 15.056000000000001,\n",
       " 6.552,\n",
       " 16.304000000000002,\n",
       " 6.504,\n",
       " 22.92,\n",
       " 14.847999999999999,\n",
       " 23.36,\n",
       " 11.975999999999999,\n",
       " 5.624,\n",
       " 11.416,\n",
       " 22.624000000000002,\n",
       " 9.768,\n",
       " 5.056,\n",
       " 26.216,\n",
       " 5.672,\n",
       " 22.584,\n",
       " 7.952,\n",
       " 8.864,\n",
       " 7.048,\n",
       " 26.896,\n",
       " 8.44,\n",
       " 19.792,\n",
       " 10.872,\n",
       " 20.496,\n",
       " 22.64,\n",
       " 13.368,\n",
       " 12.696000000000002,\n",
       " 16.224000000000004,\n",
       " 24.208,\n",
       " 24.456,\n",
       " 8.04,\n",
       " 8.576,\n",
       " 27.456,\n",
       " 14.68,\n",
       " 20.808,\n",
       " 18.704,\n",
       " 20.024,\n",
       " 5.328,\n",
       " 12.512,\n",
       " 16.984,\n",
       " 5.936,\n",
       " 15.536,\n",
       " 18.8,\n",
       " 11.856000000000002,\n",
       " 20.072000000000003,\n",
       " 18.08,\n",
       " 14.376000000000001,\n",
       " 23.76,\n",
       " 6.432,\n",
       " 21.544,\n",
       " 22.232,\n",
       " 27.744,\n",
       " 9.0,\n",
       " 18.16,\n",
       " 6.568,\n",
       " 18.472,\n",
       " 22.792,\n",
       " 27.151999999999997,\n",
       " 24.872,\n",
       " 18.616,\n",
       " 27.136,\n",
       " 18.247999999999998,\n",
       " 17.528,\n",
       " 22.48,\n",
       " 9.496,\n",
       " 28.008000000000003,\n",
       " 25.304000000000002,\n",
       " 21.4,\n",
       " 16.16,\n",
       " 20.288,\n",
       " 27.88,\n",
       " 6.496,\n",
       " 8.16,\n",
       " 11.04,\n",
       " 6.3759999999999994,\n",
       " 18.344,\n",
       " 16.976,\n",
       " 8.056000000000001,\n",
       " 12.536000000000001,\n",
       " 19.16,\n",
       " 27.688000000000002,\n",
       " 23.568]"
      ]
     },
     "execution_count": 65,
     "metadata": {},
     "output_type": "execute_result"
    }
   ],
   "source": [
    "predictedOPLine2"
   ]
  },
  {
   "cell_type": "code",
   "execution_count": 66,
   "id": "a25020ef",
   "metadata": {},
   "outputs": [],
   "source": [
    "diffSumSquareL1=sum([(data[\"Sales\"][i]-predictedOPLine1[i])**2 for i in range(len(predictedOPLine1))])"
   ]
  },
  {
   "cell_type": "code",
   "execution_count": 67,
   "id": "40597469",
   "metadata": {},
   "outputs": [
    {
     "data": {
      "text/plain": [
       "1249.0819555555559"
      ]
     },
     "execution_count": 67,
     "metadata": {},
     "output_type": "execute_result"
    }
   ],
   "source": [
    "diffSumSquareL1"
   ]
  },
  {
   "cell_type": "code",
   "execution_count": 84,
   "id": "a39ef4bd",
   "metadata": {},
   "outputs": [],
   "source": [
    "diffSumSquareL2=sum([(data[\"Sales\"][i]-predictedOPLine2[i])**2 for i in range(len(predictedOPLine2))])"
   ]
  },
  {
   "cell_type": "code",
   "execution_count": 85,
   "id": "999abdd9",
   "metadata": {},
   "outputs": [
    {
     "data": {
      "text/plain": [
       "2459.8132959999994"
      ]
     },
     "execution_count": 85,
     "metadata": {},
     "output_type": "execute_result"
    }
   ],
   "source": [
    "diffSumSquareL2"
   ]
  },
  {
   "cell_type": "code",
   "execution_count": 70,
   "id": "93275f68",
   "metadata": {},
   "outputs": [],
   "source": [
    "from sklearn import linear_model\n",
    "\n",
    "reg = linear_model.LinearRegression()"
   ]
  },
  {
   "cell_type": "code",
   "execution_count": 71,
   "id": "bc630a98",
   "metadata": {},
   "outputs": [
    {
     "data": {
      "text/html": [
       "<style>#sk-container-id-1 {color: black;background-color: white;}#sk-container-id-1 pre{padding: 0;}#sk-container-id-1 div.sk-toggleable {background-color: white;}#sk-container-id-1 label.sk-toggleable__label {cursor: pointer;display: block;width: 100%;margin-bottom: 0;padding: 0.3em;box-sizing: border-box;text-align: center;}#sk-container-id-1 label.sk-toggleable__label-arrow:before {content: \"▸\";float: left;margin-right: 0.25em;color: #696969;}#sk-container-id-1 label.sk-toggleable__label-arrow:hover:before {color: black;}#sk-container-id-1 div.sk-estimator:hover label.sk-toggleable__label-arrow:before {color: black;}#sk-container-id-1 div.sk-toggleable__content {max-height: 0;max-width: 0;overflow: hidden;text-align: left;background-color: #f0f8ff;}#sk-container-id-1 div.sk-toggleable__content pre {margin: 0.2em;color: black;border-radius: 0.25em;background-color: #f0f8ff;}#sk-container-id-1 input.sk-toggleable__control:checked~div.sk-toggleable__content {max-height: 200px;max-width: 100%;overflow: auto;}#sk-container-id-1 input.sk-toggleable__control:checked~label.sk-toggleable__label-arrow:before {content: \"▾\";}#sk-container-id-1 div.sk-estimator input.sk-toggleable__control:checked~label.sk-toggleable__label {background-color: #d4ebff;}#sk-container-id-1 div.sk-label input.sk-toggleable__control:checked~label.sk-toggleable__label {background-color: #d4ebff;}#sk-container-id-1 input.sk-hidden--visually {border: 0;clip: rect(1px 1px 1px 1px);clip: rect(1px, 1px, 1px, 1px);height: 1px;margin: -1px;overflow: hidden;padding: 0;position: absolute;width: 1px;}#sk-container-id-1 div.sk-estimator {font-family: monospace;background-color: #f0f8ff;border: 1px dotted black;border-radius: 0.25em;box-sizing: border-box;margin-bottom: 0.5em;}#sk-container-id-1 div.sk-estimator:hover {background-color: #d4ebff;}#sk-container-id-1 div.sk-parallel-item::after {content: \"\";width: 100%;border-bottom: 1px solid gray;flex-grow: 1;}#sk-container-id-1 div.sk-label:hover label.sk-toggleable__label {background-color: #d4ebff;}#sk-container-id-1 div.sk-serial::before {content: \"\";position: absolute;border-left: 1px solid gray;box-sizing: border-box;top: 0;bottom: 0;left: 50%;z-index: 0;}#sk-container-id-1 div.sk-serial {display: flex;flex-direction: column;align-items: center;background-color: white;padding-right: 0.2em;padding-left: 0.2em;position: relative;}#sk-container-id-1 div.sk-item {position: relative;z-index: 1;}#sk-container-id-1 div.sk-parallel {display: flex;align-items: stretch;justify-content: center;background-color: white;position: relative;}#sk-container-id-1 div.sk-item::before, #sk-container-id-1 div.sk-parallel-item::before {content: \"\";position: absolute;border-left: 1px solid gray;box-sizing: border-box;top: 0;bottom: 0;left: 50%;z-index: -1;}#sk-container-id-1 div.sk-parallel-item {display: flex;flex-direction: column;z-index: 1;position: relative;background-color: white;}#sk-container-id-1 div.sk-parallel-item:first-child::after {align-self: flex-end;width: 50%;}#sk-container-id-1 div.sk-parallel-item:last-child::after {align-self: flex-start;width: 50%;}#sk-container-id-1 div.sk-parallel-item:only-child::after {width: 0;}#sk-container-id-1 div.sk-dashed-wrapped {border: 1px dashed gray;margin: 0 0.4em 0.5em 0.4em;box-sizing: border-box;padding-bottom: 0.4em;background-color: white;}#sk-container-id-1 div.sk-label label {font-family: monospace;font-weight: bold;display: inline-block;line-height: 1.2em;}#sk-container-id-1 div.sk-label-container {text-align: center;}#sk-container-id-1 div.sk-container {/* jupyter's `normalize.less` sets `[hidden] { display: none; }` but bootstrap.min.css set `[hidden] { display: none !important; }` so we also need the `!important` here to be able to override the default hidden behavior on the sphinx rendered scikit-learn.org. See: https://github.com/scikit-learn/scikit-learn/issues/21755 */display: inline-block !important;position: relative;}#sk-container-id-1 div.sk-text-repr-fallback {display: none;}</style><div id=\"sk-container-id-1\" class=\"sk-top-container\"><div class=\"sk-text-repr-fallback\"><pre>LinearRegression()</pre><b>In a Jupyter environment, please rerun this cell to show the HTML representation or trust the notebook. <br />On GitHub, the HTML representation is unable to render, please try loading this page with nbviewer.org.</b></div><div class=\"sk-container\" hidden><div class=\"sk-item\"><div class=\"sk-estimator sk-toggleable\"><input class=\"sk-toggleable__control sk-hidden--visually\" id=\"sk-estimator-id-1\" type=\"checkbox\" checked><label for=\"sk-estimator-id-1\" class=\"sk-toggleable__label sk-toggleable__label-arrow\">LinearRegression</label><div class=\"sk-toggleable__content\"><pre>LinearRegression()</pre></div></div></div></div></div>"
      ],
      "text/plain": [
       "LinearRegression()"
      ]
     },
     "execution_count": 71,
     "metadata": {},
     "output_type": "execute_result"
    }
   ],
   "source": [
    "reg.fit(data[[\"TV\"]],data[\"Sales\"])"
   ]
  },
  {
   "cell_type": "code",
   "execution_count": 75,
   "id": "c48e0489",
   "metadata": {},
   "outputs": [
    {
     "data": {
      "text/plain": [
       "(0.08, 0.06666666666666667)"
      ]
     },
     "execution_count": 75,
     "metadata": {},
     "output_type": "execute_result"
    }
   ],
   "source": [
    "aLine2,aLine1"
   ]
  },
  {
   "cell_type": "code",
   "execution_count": 76,
   "id": "faa4be22",
   "metadata": {},
   "outputs": [],
   "source": [
    "aMachine=list(reg.coef_)[0]"
   ]
  },
  {
   "cell_type": "code",
   "execution_count": 77,
   "id": "4aabc1ed",
   "metadata": {},
   "outputs": [
    {
     "data": {
      "text/plain": [
       "0.055464770469558874"
      ]
     },
     "execution_count": 77,
     "metadata": {},
     "output_type": "execute_result"
    }
   ],
   "source": [
    "aMachine"
   ]
  },
  {
   "cell_type": "code",
   "execution_count": 78,
   "id": "138ffb92",
   "metadata": {},
   "outputs": [],
   "source": [
    "machineYIntercept=reg.intercept_"
   ]
  },
  {
   "cell_type": "code",
   "execution_count": 79,
   "id": "24a3db83",
   "metadata": {},
   "outputs": [
    {
     "data": {
      "text/plain": [
       "6.974821488229891"
      ]
     },
     "execution_count": 79,
     "metadata": {},
     "output_type": "execute_result"
    }
   ],
   "source": [
    "machineYIntercept"
   ]
  },
  {
   "cell_type": "code",
   "execution_count": 80,
   "id": "19307963",
   "metadata": {},
   "outputs": [],
   "source": [
    "predictedOPMachine=[(aMachine*x)+machineYIntercept for x in list(data[\"TV\"])]"
   ]
  },
  {
   "cell_type": "code",
   "execution_count": 81,
   "id": "b227f34e",
   "metadata": {},
   "outputs": [
    {
     "data": {
      "text/plain": [
       "[19.73726517327539,\n",
       " 9.44300377412526,\n",
       " 7.928815540306303,\n",
       " 15.37773421436806,\n",
       " 17.002851989126135,\n",
       " 7.457364991315053,\n",
       " 10.164045790229526,\n",
       " 13.641686898670867,\n",
       " 7.451818514268097,\n",
       " 18.056682628047753,\n",
       " 10.641042816267731,\n",
       " 18.88310770804418,\n",
       " 8.294883025405392,\n",
       " 12.38263660901188,\n",
       " 18.295181141066855,\n",
       " 17.812637637981695,\n",
       " 10.735332926065983,\n",
       " 22.582607898363754,\n",
       " 10.812983604723364,\n",
       " 15.144782178395914,\n",
       " 19.088327358781548,\n",
       " 20.142157997703166,\n",
       " 7.706956458428068,\n",
       " 19.637428586430183,\n",
       " 10.430276688483408,\n",
       " 21.556509644676918,\n",
       " 14.900737188329854,\n",
       " 20.291912877970976,\n",
       " 20.77445638105614,\n",
       " 10.890634283380747,\n",
       " 23.220452758763685,\n",
       " 13.236794074243088,\n",
       " 12.365997177871012,\n",
       " 21.70626452494473,\n",
       " 12.282800022166676,\n",
       " 23.098430263730656,\n",
       " 21.77836872655515,\n",
       " 11.118039842305938,\n",
       " 9.365353095467878,\n",
       " 19.620789155289316,\n",
       " 18.206437508315563,\n",
       " 16.79208586134181,\n",
       " 23.25927809809238,\n",
       " 18.45048249838162,\n",
       " 8.36698722701582,\n",
       " 16.686702797449648,\n",
       " 11.950011399349322,\n",
       " 20.280819923877065,\n",
       " 19.576417338913664,\n",
       " 10.68541463264338,\n",
       " 18.056682628047753,\n",
       " 12.543484443373602,\n",
       " 18.97739781784243,\n",
       " 17.102688575971342,\n",
       " 21.545416690583007,\n",
       " 18.006764334625153,\n",
       " 7.37971431265767,\n",
       " 14.52912322618381,\n",
       " 18.666795103212902,\n",
       " 18.661248626165943,\n",
       " 9.94218670835129,\n",
       " 21.467766011925626,\n",
       " 20.247541061595328,\n",
       " 12.671053415453589,\n",
       " 14.24625289678906,\n",
       " 10.801890650629453,\n",
       " 8.721961758020996,\n",
       " 14.701064014639442,\n",
       " 20.142157997703166,\n",
       " 18.999583726030256,\n",
       " 18.017857288719064,\n",
       " 13.064853285787455,\n",
       " 8.461277336814069,\n",
       " 14.15196278699081,\n",
       " 18.811003506433757,\n",
       " 7.9121761091654355,\n",
       " 8.50010267614276,\n",
       " 13.658326329811736,\n",
       " 7.274331248765509,\n",
       " 13.40873486269872,\n",
       " 11.212329952104188,\n",
       " 20.27527344683011,\n",
       " 11.151318704587673,\n",
       " 10.768611788347718,\n",
       " 18.816549983480712,\n",
       " 17.690615142948666,\n",
       " 11.206783475057232,\n",
       " 13.114771579210057,\n",
       " 11.87236072069194,\n",
       " 13.064853285787455,\n",
       " 14.423740162291647,\n",
       " 8.561113923659274,\n",
       " 19.04950201945286,\n",
       " 20.890932399042214,\n",
       " 12.931737836660513,\n",
       " 16.032218505908855,\n",
       " 17.934660133014724,\n",
       " 17.230257548051327,\n",
       " 23.042965493261093,\n",
       " 14.47365845571425,\n",
       " 19.310186440659784,\n",
       " 23.414579455407143,\n",
       " 22.516050173800288,\n",
       " 17.396651859460004,\n",
       " 20.186529814078813,\n",
       " 14.623413335982061,\n",
       " 8.361440749968862,\n",
       " 11.988836738678014,\n",
       " 7.701409981381111,\n",
       " 21.140523866155227,\n",
       " 19.498766660256287,\n",
       " 20.380656510722268,\n",
       " 16.719981659731385,\n",
       " 18.60023737864943,\n",
       " 11.312166538949395,\n",
       " 11.140225750493762,\n",
       " 14.695517537592487,\n",
       " 11.212329952104188,\n",
       " 13.946743136253442,\n",
       " 8.050838035339332,\n",
       " 14.81199355557856,\n",
       " 8.017559173057597,\n",
       " 19.39893007341108,\n",
       " 13.802534733032587,\n",
       " 19.703986310993653,\n",
       " 11.811349473175426,\n",
       " 7.40744669789245,\n",
       " 11.423096079888513,\n",
       " 19.19371042267371,\n",
       " 10.2805218082156,\n",
       " 7.013646827558582,\n",
       " 21.684078616756903,\n",
       " 7.440725560174185,\n",
       " 19.165978037438933,\n",
       " 9.021471518556613,\n",
       " 9.653769901909584,\n",
       " 8.394719612250597,\n",
       " 22.155529165748156,\n",
       " 9.359806618420922,\n",
       " 17.230257548051327,\n",
       " 11.045935640695513,\n",
       " 17.718347528183443,\n",
       " 19.20480337676762,\n",
       " 12.776436479345747,\n",
       " 12.310532407401453,\n",
       " 14.756528785109001,\n",
       " 20.291912877970976,\n",
       " 20.46385366642661,\n",
       " 9.082482766073127,\n",
       " 9.454096728219172,\n",
       " 22.543782559035066,\n",
       " 13.686058715046514,\n",
       " 17.934660133014724,\n",
       " 16.475936669665327,\n",
       " 17.39110538241305,\n",
       " 7.202227047155082,\n",
       " 12.182963435321469,\n",
       " 15.28344410456981,\n",
       " 7.623759302723729,\n",
       " 14.279531759070794,\n",
       " 16.542494394228797,\n",
       " 11.728152317471086,\n",
       " 17.424384244694785,\n",
       " 16.04331146000277,\n",
       " 13.47529258726219,\n",
       " 19.981310163341448,\n",
       " 7.9676408796349945,\n",
       " 18.444936021334666,\n",
       " 18.921933047372875,\n",
       " 22.74345573272548,\n",
       " 9.748060011707835,\n",
       " 16.098776230472325,\n",
       " 8.061930989433245,\n",
       " 16.315088835303605,\n",
       " 19.310186440659784,\n",
       " 22.33301643125074,\n",
       " 20.752270472868318,\n",
       " 16.414925422148812,\n",
       " 22.32192347715683,\n",
       " 16.15978747798884,\n",
       " 15.66060454376281,\n",
       " 19.093873835828504,\n",
       " 10.0919415886191,\n",
       " 22.926489475275027,\n",
       " 21.05178023340393,\n",
       " 18.345099434489462,\n",
       " 14.712156968733353,\n",
       " 17.574139124962592,\n",
       " 22.83774584252373,\n",
       " 8.012012696010641,\n",
       " 9.165679921777466,\n",
       " 11.162411658681584,\n",
       " 7.928815540306303,\n",
       " 16.22634520255231,\n",
       " 15.277897627522854,\n",
       " 9.09357572016704,\n",
       " 12.199602866462337,\n",
       " 16.79208586134181,\n",
       " 22.70463039339679,\n",
       " 19.848194714214507]"
      ]
     },
     "execution_count": 81,
     "metadata": {},
     "output_type": "execute_result"
    }
   ],
   "source": [
    "predictedOPMachine"
   ]
  },
  {
   "cell_type": "code",
   "execution_count": 86,
   "id": "bfb84ff5",
   "metadata": {},
   "outputs": [],
   "source": [
    "diffSumSquareMachine=sum([(data[\"Sales\"][i]-predictedOPMachine[i])**2 for i in range(len(predictedOPMachine))])"
   ]
  },
  {
   "cell_type": "code",
   "execution_count": 88,
   "id": "1f536416",
   "metadata": {},
   "outputs": [
    {
     "data": {
      "text/plain": [
       "(1249.0819555555559, 2459.8132959999994, 1043.5487795590257)"
      ]
     },
     "execution_count": 88,
     "metadata": {},
     "output_type": "execute_result"
    }
   ],
   "source": [
    "diffSumSquareL1,diffSumSquareL2,diffSumSquareMachine"
   ]
  },
  {
   "cell_type": "code",
   "execution_count": 89,
   "id": "b101fa25",
   "metadata": {},
   "outputs": [
    {
     "data": {
      "text/plain": [
       "(0.055464770469558874, 6.974821488229891)"
      ]
     },
     "execution_count": 89,
     "metadata": {},
     "output_type": "execute_result"
    }
   ],
   "source": [
    "aMachine,machineYIntercept"
   ]
  },
  {
   "cell_type": "code",
   "execution_count": 90,
   "id": "69d3eb0e",
   "metadata": {},
   "outputs": [],
   "source": [
    "lineMachine=[[0,6.974821488229891],[250,(aMachine*250)+6.974821488229891]]"
   ]
  },
  {
   "cell_type": "code",
   "execution_count": 91,
   "id": "00d4cb28",
   "metadata": {},
   "outputs": [
    {
     "data": {
      "text/plain": [
       "[[0, 6.974821488229891], [250, 20.841014105619607]]"
      ]
     },
     "execution_count": 91,
     "metadata": {},
     "output_type": "execute_result"
    }
   ],
   "source": [
    "lineMachine"
   ]
  },
  {
   "cell_type": "code",
   "execution_count": 94,
   "id": "eb9aeeea",
   "metadata": {},
   "outputs": [
    {
     "data": {
      "image/png": "[encoded data removed]",
      "text/plain": [
       "<Figure size 432x288 with 1 Axes>"
      ]
     },
     "metadata": {
      "needs_background": "light"
     },
     "output_type": "display_data"
    }
   ],
   "source": [
    "plt.scatter(x=data[\"TV\"],y=data[\"Sales\"],marker=\"o\",edgecolors=\"black\")\n",
    "plt.plot([0,300],[5,25],label=\"lineTrial1\",color=\"brown\")\n",
    "plt.plot([0,250],[5,25],label=\"lineTrial2\",color=\"yellow\")\n",
    "plt.plot([0,250],[6.974821488229891,20.841014105619607],label=\"MachineLine\",color=\"green\")\n",
    "plt.legend([\"ActualSales\",\"lineTrial1\",\"lineTrial2\",\"MachineLine\"])\n",
    "plt.show()"
   ]
  },
  {
   "cell_type": "code",
   "execution_count": 95,
   "id": "95f3678d",
   "metadata": {},
   "outputs": [],
   "source": [
    "# Correlation Coefficient"
   ]
  },
  {
   "cell_type": "code",
   "execution_count": 97,
   "id": "6bad2ae4",
   "metadata": {},
   "outputs": [
    {
     "data": {
      "text/html": [
       "<div>\n",
       "<style scoped>\n",
       "    .dataframe tbody tr th:only-of-type {\n",
       "        vertical-align: middle;\n",
       "    }\n",
       "\n",
       "    .dataframe tbody tr th {\n",
       "        vertical-align: top;\n",
       "    }\n",
       "\n",
       "    .dataframe thead th {\n",
       "        text-align: right;\n",
       "    }\n",
       "</style>\n",
       "<table border=\"1\" class=\"dataframe\">\n",
       "  <thead>\n",
       "    <tr style=\"text-align: right;\">\n",
       "      <th></th>\n",
       "      <th>TV</th>\n",
       "      <th>Radio</th>\n",
       "      <th>Newspaper</th>\n",
       "      <th>Sales</th>\n",
       "    </tr>\n",
       "  </thead>\n",
       "  <tbody>\n",
       "    <tr>\n",
       "      <th>0</th>\n",
       "      <td>230.1</td>\n",
       "      <td>37.8</td>\n",
       "      <td>69.2</td>\n",
       "      <td>22.1</td>\n",
       "    </tr>\n",
       "    <tr>\n",
       "      <th>1</th>\n",
       "      <td>44.5</td>\n",
       "      <td>39.3</td>\n",
       "      <td>45.1</td>\n",
       "      <td>10.4</td>\n",
       "    </tr>\n",
       "    <tr>\n",
       "      <th>2</th>\n",
       "      <td>17.2</td>\n",
       "      <td>45.9</td>\n",
       "      <td>69.3</td>\n",
       "      <td>12.0</td>\n",
       "    </tr>\n",
       "    <tr>\n",
       "      <th>3</th>\n",
       "      <td>151.5</td>\n",
       "      <td>41.3</td>\n",
       "      <td>58.5</td>\n",
       "      <td>16.5</td>\n",
       "    </tr>\n",
       "    <tr>\n",
       "      <th>4</th>\n",
       "      <td>180.8</td>\n",
       "      <td>10.8</td>\n",
       "      <td>58.4</td>\n",
       "      <td>17.9</td>\n",
       "    </tr>\n",
       "    <tr>\n",
       "      <th>...</th>\n",
       "      <td>...</td>\n",
       "      <td>...</td>\n",
       "      <td>...</td>\n",
       "      <td>...</td>\n",
       "    </tr>\n",
       "    <tr>\n",
       "      <th>195</th>\n",
       "      <td>38.2</td>\n",
       "      <td>3.7</td>\n",
       "      <td>13.8</td>\n",
       "      <td>7.6</td>\n",
       "    </tr>\n",
       "    <tr>\n",
       "      <th>196</th>\n",
       "      <td>94.2</td>\n",
       "      <td>4.9</td>\n",
       "      <td>8.1</td>\n",
       "      <td>14.0</td>\n",
       "    </tr>\n",
       "    <tr>\n",
       "      <th>197</th>\n",
       "      <td>177.0</td>\n",
       "      <td>9.3</td>\n",
       "      <td>6.4</td>\n",
       "      <td>14.8</td>\n",
       "    </tr>\n",
       "    <tr>\n",
       "      <th>198</th>\n",
       "      <td>283.6</td>\n",
       "      <td>42.0</td>\n",
       "      <td>66.2</td>\n",
       "      <td>25.5</td>\n",
       "    </tr>\n",
       "    <tr>\n",
       "      <th>199</th>\n",
       "      <td>232.1</td>\n",
       "      <td>8.6</td>\n",
       "      <td>8.7</td>\n",
       "      <td>18.4</td>\n",
       "    </tr>\n",
       "  </tbody>\n",
       "</table>\n",
       "<p>200 rows × 4 columns</p>\n",
       "</div>"
      ],
      "text/plain": [
       "        TV  Radio  Newspaper  Sales\n",
       "0    230.1   37.8       69.2   22.1\n",
       "1     44.5   39.3       45.1   10.4\n",
       "2     17.2   45.9       69.3   12.0\n",
       "3    151.5   41.3       58.5   16.5\n",
       "4    180.8   10.8       58.4   17.9\n",
       "..     ...    ...        ...    ...\n",
       "195   38.2    3.7       13.8    7.6\n",
       "196   94.2    4.9        8.1   14.0\n",
       "197  177.0    9.3        6.4   14.8\n",
       "198  283.6   42.0       66.2   25.5\n",
       "199  232.1    8.6        8.7   18.4\n",
       "\n",
       "[200 rows x 4 columns]"
      ]
     },
     "execution_count": 97,
     "metadata": {},
     "output_type": "execute_result"
    }
   ],
   "source": [
    "data"
   ]
  },
  {
   "cell_type": "raw",
   "id": "95b52cb6",
   "metadata": {},
   "source": [
    "correlCoeff= σXY\n",
    "            ------\n",
    "             σXσY"
   ]
  },
  {
   "cell_type": "code",
   "execution_count": 98,
   "id": "462991da",
   "metadata": {},
   "outputs": [],
   "source": [
    "x=list(data[\"TV\"])\n",
    "y=list(data[\"Radio\"])"
   ]
  },
  {
   "cell_type": "code",
   "execution_count": 99,
   "id": "4e43dec8",
   "metadata": {},
   "outputs": [],
   "source": [
    "xSquare=[i**2 for i in x]\n",
    "\n",
    "ySquare=[j**2 for j in y]"
   ]
  },
  {
   "cell_type": "code",
   "execution_count": 100,
   "id": "4a0bbf9c",
   "metadata": {},
   "outputs": [],
   "source": [
    "xy=[i*j for i,j in zip(x,y)]"
   ]
  },
  {
   "cell_type": "code",
   "execution_count": 102,
   "id": "931ef999",
   "metadata": {},
   "outputs": [],
   "source": [
    "numRows=len(x)"
   ]
  },
  {
   "cell_type": "code",
   "execution_count": 103,
   "id": "e0d7d5af",
   "metadata": {},
   "outputs": [],
   "source": [
    "meanX=sum(x)/numRows"
   ]
  },
  {
   "cell_type": "code",
   "execution_count": 104,
   "id": "71f36628",
   "metadata": {},
   "outputs": [],
   "source": [
    "meanY=sum(y)/numRows"
   ]
  },
  {
   "cell_type": "code",
   "execution_count": 105,
   "id": "6f80396f",
   "metadata": {},
   "outputs": [],
   "source": [
    "meanXY=sum(xy)/numRows"
   ]
  },
  {
   "cell_type": "code",
   "execution_count": 106,
   "id": "3e097e24",
   "metadata": {},
   "outputs": [],
   "source": [
    "varXY=(meanXY)-(meanX*meanY)"
   ]
  },
  {
   "cell_type": "code",
   "execution_count": 107,
   "id": "93a90335",
   "metadata": {},
   "outputs": [],
   "source": [
    "meanXSquare=sum(xSquare)/numRows\n",
    "meanYSquare=sum(ySquare)/numRows"
   ]
  },
  {
   "cell_type": "code",
   "execution_count": 108,
   "id": "90f5c4ab",
   "metadata": {},
   "outputs": [],
   "source": [
    "import math"
   ]
  },
  {
   "cell_type": "code",
   "execution_count": 109,
   "id": "a4783fed",
   "metadata": {},
   "outputs": [],
   "source": [
    "varX=math.sqrt(meanXSquare-(meanX**2))"
   ]
  },
  {
   "cell_type": "code",
   "execution_count": 110,
   "id": "9a6c8827",
   "metadata": {},
   "outputs": [],
   "source": [
    "varY=math.sqrt(meanYSquare-(meanY**2))"
   ]
  },
  {
   "cell_type": "code",
   "execution_count": 111,
   "id": "af9b4cf3",
   "metadata": {},
   "outputs": [],
   "source": [
    "corrCoeff=varXY/(varX*varY)"
   ]
  },
  {
   "cell_type": "code",
   "execution_count": 112,
   "id": "a57329f4",
   "metadata": {},
   "outputs": [
    {
     "data": {
      "text/plain": [
       "0.05480866446582874"
      ]
     },
     "execution_count": 112,
     "metadata": {},
     "output_type": "execute_result"
    }
   ],
   "source": [
    "corrCoeff"
   ]
  },
  {
   "cell_type": "code",
   "execution_count": 113,
   "id": "0f562b5e",
   "metadata": {},
   "outputs": [
    {
     "data": {
      "text/plain": [
       "0.054808664465830034"
      ]
     },
     "execution_count": 113,
     "metadata": {},
     "output_type": "execute_result"
    }
   ],
   "source": [
    "data[\"TV\"].corr(data[\"Radio\"])"
   ]
  },
  {
   "cell_type": "code",
   "execution_count": 115,
   "id": "f4cfc136",
   "metadata": {},
   "outputs": [
    {
     "data": {
      "text/html": [
       "<div>\n",
       "<style scoped>\n",
       "    .dataframe tbody tr th:only-of-type {\n",
       "        vertical-align: middle;\n",
       "    }\n",
       "\n",
       "    .dataframe tbody tr th {\n",
       "        vertical-align: top;\n",
       "    }\n",
       "\n",
       "    .dataframe thead th {\n",
       "        text-align: right;\n",
       "    }\n",
       "</style>\n",
       "<table border=\"1\" class=\"dataframe\">\n",
       "  <thead>\n",
       "    <tr style=\"text-align: right;\">\n",
       "      <th></th>\n",
       "      <th>TV</th>\n",
       "      <th>Radio</th>\n",
       "      <th>Newspaper</th>\n",
       "      <th>Sales</th>\n",
       "    </tr>\n",
       "  </thead>\n",
       "  <tbody>\n",
       "    <tr>\n",
       "      <th>TV</th>\n",
       "      <td>1.000000</td>\n",
       "      <td>0.054809</td>\n",
       "      <td>0.056648</td>\n",
       "      <td>0.901208</td>\n",
       "    </tr>\n",
       "    <tr>\n",
       "      <th>Radio</th>\n",
       "      <td>0.054809</td>\n",
       "      <td>1.000000</td>\n",
       "      <td>0.354104</td>\n",
       "      <td>0.349631</td>\n",
       "    </tr>\n",
       "    <tr>\n",
       "      <th>Newspaper</th>\n",
       "      <td>0.056648</td>\n",
       "      <td>0.354104</td>\n",
       "      <td>1.000000</td>\n",
       "      <td>0.157960</td>\n",
       "    </tr>\n",
       "    <tr>\n",
       "      <th>Sales</th>\n",
       "      <td>0.901208</td>\n",
       "      <td>0.349631</td>\n",
       "      <td>0.157960</td>\n",
       "      <td>1.000000</td>\n",
       "    </tr>\n",
       "  </tbody>\n",
       "</table>\n",
       "</div>"
      ],
      "text/plain": [
       "                 TV     Radio  Newspaper     Sales\n",
       "TV         1.000000  0.054809   0.056648  0.901208\n",
       "Radio      0.054809  1.000000   0.354104  0.349631\n",
       "Newspaper  0.056648  0.354104   1.000000  0.157960\n",
       "Sales      0.901208  0.349631   0.157960  1.000000"
      ]
     },
     "execution_count": 115,
     "metadata": {},
     "output_type": "execute_result"
    }
   ],
   "source": [
    "data.corr()"
   ]
  },
  {
   "cell_type": "code",
   "execution_count": null,
   "id": "80258e04",
   "metadata": {},
   "outputs": [],
   "source": []
  }
 ],
 "metadata": {
  "kernelspec": {
   "display_name": "Python 3 (ipykernel)",
   "language": "python",
   "name": "python3"
  },
  "language_info": {
   "codemirror_mode": {
    "name": "ipython",
    "version": 3
   },
   "file_extension": ".py",
   "mimetype": "text/x-python",
   "name": "python",
   "nbconvert_exporter": "python",
   "pygments_lexer": "ipython3",
   "version": "3.8.10"
  }
 },
 "nbformat": 4,
 "nbformat_minor": 5
}
