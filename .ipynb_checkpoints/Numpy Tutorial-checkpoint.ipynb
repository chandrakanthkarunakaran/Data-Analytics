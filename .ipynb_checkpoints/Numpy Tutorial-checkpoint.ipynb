{
 "cells": [
  {
   "cell_type": "code",
   "execution_count": 1,
   "id": "228d09f9",
   "metadata": {},
   "outputs": [],
   "source": [
    "import numpy as np"
   ]
  },
  {
   "cell_type": "code",
   "execution_count": 2,
   "id": "da762465",
   "metadata": {},
   "outputs": [],
   "source": [
    "b=[25,36,69,84,63,52,31]"
   ]
  },
  {
   "cell_type": "code",
   "execution_count": 3,
   "id": "03b26b86",
   "metadata": {},
   "outputs": [
    {
     "name": "stdout",
     "output_type": "stream",
     "text": [
      "ENter the number32\n"
     ]
    }
   ],
   "source": [
    "num=int(input(\"ENter the number\"))"
   ]
  },
  {
   "cell_type": "code",
   "execution_count": 4,
   "id": "03348238",
   "metadata": {},
   "outputs": [
    {
     "data": {
      "text/plain": [
       "32"
      ]
     },
     "execution_count": 4,
     "metadata": {},
     "output_type": "execute_result"
    }
   ],
   "source": [
    "num"
   ]
  },
  {
   "cell_type": "code",
   "execution_count": 5,
   "id": "8c1cb2b1",
   "metadata": {},
   "outputs": [
    {
     "data": {
      "text/plain": [
       "[57, 68, 101, 116, 95, 84, 63]"
      ]
     },
     "execution_count": 5,
     "metadata": {},
     "output_type": "execute_result"
    }
   ],
   "source": [
    "[x+num for x in b]"
   ]
  },
  {
   "cell_type": "code",
   "execution_count": 6,
   "id": "b6aa1c6b",
   "metadata": {},
   "outputs": [],
   "source": [
    "n=[]\n",
    "\n",
    "for x in b:\n",
    "    \n",
    "    n.append(x+num)\n",
    "    "
   ]
  },
  {
   "cell_type": "code",
   "execution_count": 7,
   "id": "c73a2e44",
   "metadata": {},
   "outputs": [
    {
     "data": {
      "text/plain": [
       "[57, 68, 101, 116, 95, 84, 63]"
      ]
     },
     "execution_count": 7,
     "metadata": {},
     "output_type": "execute_result"
    }
   ],
   "source": [
    "n"
   ]
  },
  {
   "cell_type": "code",
   "execution_count": 8,
   "id": "5354251c",
   "metadata": {},
   "outputs": [],
   "source": [
    "nArray=np.array(b)"
   ]
  },
  {
   "cell_type": "code",
   "execution_count": 9,
   "id": "dd9021d7",
   "metadata": {},
   "outputs": [
    {
     "data": {
      "text/plain": [
       "array([25, 36, 69, 84, 63, 52, 31])"
      ]
     },
     "execution_count": 9,
     "metadata": {},
     "output_type": "execute_result"
    }
   ],
   "source": [
    "nArray"
   ]
  },
  {
   "cell_type": "code",
   "execution_count": 10,
   "id": "4643b64a",
   "metadata": {},
   "outputs": [
    {
     "data": {
      "text/plain": [
       "array([ 57,  68, 101, 116,  95,  84,  63])"
      ]
     },
     "execution_count": 10,
     "metadata": {},
     "output_type": "execute_result"
    }
   ],
   "source": [
    "nArray+num"
   ]
  },
  {
   "cell_type": "code",
   "execution_count": 19,
   "id": "50f6ceb9",
   "metadata": {},
   "outputs": [],
   "source": [
    "l=list(range(10000000))"
   ]
  },
  {
   "cell_type": "code",
   "execution_count": 27,
   "id": "8637076b",
   "metadata": {},
   "outputs": [
    {
     "name": "stdout",
     "output_type": "stream",
     "text": [
      "Wall time: 3.97 s\n"
     ]
    }
   ],
   "source": [
    "%%time\n",
    "m=[]\n",
    "for x in range(10000000):\n",
    "    \n",
    "    m.append(x+25)\n"
   ]
  },
  {
   "cell_type": "code",
   "execution_count": 28,
   "id": "266fa8f9",
   "metadata": {},
   "outputs": [
    {
     "name": "stdout",
     "output_type": "stream",
     "text": [
      "Wall time: 54 ms\n"
     ]
    }
   ],
   "source": [
    "%%time\n",
    "\n",
    "v=np.arange(10000000)"
   ]
  },
  {
   "cell_type": "code",
   "execution_count": 32,
   "id": "92ca8329",
   "metadata": {},
   "outputs": [
    {
     "name": "stdout",
     "output_type": "stream",
     "text": [
      "Wall time: 38.9 ms\n"
     ]
    }
   ],
   "source": [
    "%%time\n",
    "v1=v+25"
   ]
  },
  {
   "cell_type": "code",
   "execution_count": 34,
   "id": "28d4abaf",
   "metadata": {},
   "outputs": [
    {
     "data": {
      "text/plain": [
       "499999.5"
      ]
     },
     "execution_count": 34,
     "metadata": {},
     "output_type": "execute_result"
    }
   ],
   "source": [
    "sum(l)/len(l)"
   ]
  },
  {
   "cell_type": "code",
   "execution_count": 36,
   "id": "123db955",
   "metadata": {},
   "outputs": [
    {
     "data": {
      "text/plain": [
       "499999.5"
      ]
     },
     "execution_count": 36,
     "metadata": {},
     "output_type": "execute_result"
    }
   ],
   "source": [
    "np.average(l)"
   ]
  },
  {
   "cell_type": "markdown",
   "id": "97deed28",
   "metadata": {},
   "source": [
    "1) Creation Of A Numpy Array\n",
    "2) Joining or Concatenation of Two Arrays\n",
    "3) Indexing\n",
    "4) Mathematical Operations"
   ]
  },
  {
   "cell_type": "markdown",
   "id": "10cd8c19",
   "metadata": {},
   "source": [
    "Creation Of an Array\n",
    "\n",
    "* 1-Dimensional Array\n",
    "* 2-Dimensional Array\n",
    "* N-Dimensional Array"
   ]
  },
  {
   "cell_type": "code",
   "execution_count": 37,
   "id": "60ebbeb7",
   "metadata": {},
   "outputs": [],
   "source": [
    "oneDimeArray=np.arange(25)"
   ]
  },
  {
   "cell_type": "code",
   "execution_count": 38,
   "id": "b8f5615b",
   "metadata": {},
   "outputs": [
    {
     "data": {
      "text/plain": [
       "array([ 0,  1,  2,  3,  4,  5,  6,  7,  8,  9, 10, 11, 12, 13, 14, 15, 16,\n",
       "       17, 18, 19, 20, 21, 22, 23, 24])"
      ]
     },
     "execution_count": 38,
     "metadata": {},
     "output_type": "execute_result"
    }
   ],
   "source": [
    "oneDimeArray"
   ]
  },
  {
   "cell_type": "code",
   "execution_count": 40,
   "id": "ca1af800",
   "metadata": {},
   "outputs": [
    {
     "data": {
      "text/plain": [
       "array([[ 0,  1,  2,  3,  4],\n",
       "       [ 5,  6,  7,  8,  9],\n",
       "       [10, 11, 12, 13, 14],\n",
       "       [15, 16, 17, 18, 19],\n",
       "       [20, 21, 22, 23, 24]])"
      ]
     },
     "execution_count": 40,
     "metadata": {},
     "output_type": "execute_result"
    }
   ],
   "source": [
    "# 2 -Dimensional Array\n",
    "oneDimeArray.reshape(5,5)"
   ]
  },
  {
   "cell_type": "code",
   "execution_count": 49,
   "id": "3cf11442",
   "metadata": {},
   "outputs": [],
   "source": [
    "# 3 Dimensional Array\n",
    "\n",
    "d3Array=np.arange(24).reshape(2,6,2)"
   ]
  },
  {
   "cell_type": "code",
   "execution_count": 50,
   "id": "ef7963f2",
   "metadata": {},
   "outputs": [
    {
     "data": {
      "text/plain": [
       "array([[[ 0,  1],\n",
       "        [ 2,  3],\n",
       "        [ 4,  5],\n",
       "        [ 6,  7],\n",
       "        [ 8,  9],\n",
       "        [10, 11]],\n",
       "\n",
       "       [[12, 13],\n",
       "        [14, 15],\n",
       "        [16, 17],\n",
       "        [18, 19],\n",
       "        [20, 21],\n",
       "        [22, 23]]])"
      ]
     },
     "execution_count": 50,
     "metadata": {},
     "output_type": "execute_result"
    }
   ],
   "source": [
    "d3Array"
   ]
  },
  {
   "cell_type": "code",
   "execution_count": 52,
   "id": "9fafc1f1",
   "metadata": {},
   "outputs": [],
   "source": [
    "# np.array\n",
    "c=np.array([1,5,6,8,25])"
   ]
  },
  {
   "cell_type": "code",
   "execution_count": 57,
   "id": "f2632af1",
   "metadata": {},
   "outputs": [],
   "source": [
    "# np.arange\n",
    "\n",
    "d=np.arange(1,26,3)\n",
    "\n"
   ]
  },
  {
   "cell_type": "code",
   "execution_count": 58,
   "id": "d04810cf",
   "metadata": {},
   "outputs": [
    {
     "data": {
      "text/plain": [
       "array([ 1,  4,  7, 10, 13, 16, 19, 22, 25])"
      ]
     },
     "execution_count": 58,
     "metadata": {},
     "output_type": "execute_result"
    }
   ],
   "source": [
    "d"
   ]
  },
  {
   "cell_type": "code",
   "execution_count": 59,
   "id": "5feadf8a",
   "metadata": {},
   "outputs": [],
   "source": [
    "# np.linspace"
   ]
  },
  {
   "cell_type": "code",
   "execution_count": 66,
   "id": "03ae1993",
   "metadata": {},
   "outputs": [],
   "source": [
    "g=np.linspace(1,20,3)"
   ]
  },
  {
   "cell_type": "code",
   "execution_count": 67,
   "id": "125a79cb",
   "metadata": {},
   "outputs": [
    {
     "data": {
      "text/plain": [
       "array([ 1. , 10.5, 20. ])"
      ]
     },
     "execution_count": 67,
     "metadata": {},
     "output_type": "execute_result"
    }
   ],
   "source": [
    "g"
   ]
  },
  {
   "cell_type": "code",
   "execution_count": 68,
   "id": "61d3d855",
   "metadata": {},
   "outputs": [],
   "source": [
    "# Creation Of 2d array"
   ]
  },
  {
   "cell_type": "code",
   "execution_count": 70,
   "id": "07f127f0",
   "metadata": {},
   "outputs": [
    {
     "data": {
      "text/plain": [
       "array([[1., 0., 0., 0., 0., 0.],\n",
       "       [0., 1., 0., 0., 0., 0.],\n",
       "       [0., 0., 1., 0., 0., 0.],\n",
       "       [0., 0., 0., 1., 0., 0.],\n",
       "       [0., 0., 0., 0., 1., 0.],\n",
       "       [0., 0., 0., 0., 0., 1.]])"
      ]
     },
     "execution_count": 70,
     "metadata": {},
     "output_type": "execute_result"
    }
   ],
   "source": [
    "np.eye(6)"
   ]
  },
  {
   "cell_type": "code",
   "execution_count": 74,
   "id": "8f407d72",
   "metadata": {},
   "outputs": [
    {
     "data": {
      "text/plain": [
       "array([[1, 0, 0, 0, 0],\n",
       "       [0, 2, 0, 0, 0],\n",
       "       [0, 0, 3, 0, 0],\n",
       "       [0, 0, 0, 4, 0],\n",
       "       [0, 0, 0, 0, 5]])"
      ]
     },
     "execution_count": 74,
     "metadata": {},
     "output_type": "execute_result"
    }
   ],
   "source": [
    "np.diag([1,2,3,4,5])"
   ]
  },
  {
   "cell_type": "code",
   "execution_count": 75,
   "id": "0db6d2f2",
   "metadata": {},
   "outputs": [],
   "source": [
    "# N- Dimensional Array FUnctions"
   ]
  },
  {
   "cell_type": "code",
   "execution_count": 84,
   "id": "91dd3f7b",
   "metadata": {},
   "outputs": [
    {
     "data": {
      "text/plain": [
       "array([[0., 0., 0., 0., 0.],\n",
       "       [0., 0., 0., 0., 0.]])"
      ]
     },
     "execution_count": 84,
     "metadata": {},
     "output_type": "execute_result"
    }
   ],
   "source": [
    "np.zeros((2,5))"
   ]
  },
  {
   "cell_type": "code",
   "execution_count": 86,
   "id": "3edea663",
   "metadata": {},
   "outputs": [
    {
     "data": {
      "text/plain": [
       "array([[[[1., 1., 1., 1., 1., 1., 1., 1.],\n",
       "         [1., 1., 1., 1., 1., 1., 1., 1.],\n",
       "         [1., 1., 1., 1., 1., 1., 1., 1.]],\n",
       "\n",
       "        [[1., 1., 1., 1., 1., 1., 1., 1.],\n",
       "         [1., 1., 1., 1., 1., 1., 1., 1.],\n",
       "         [1., 1., 1., 1., 1., 1., 1., 1.]],\n",
       "\n",
       "        [[1., 1., 1., 1., 1., 1., 1., 1.],\n",
       "         [1., 1., 1., 1., 1., 1., 1., 1.],\n",
       "         [1., 1., 1., 1., 1., 1., 1., 1.]],\n",
       "\n",
       "        [[1., 1., 1., 1., 1., 1., 1., 1.],\n",
       "         [1., 1., 1., 1., 1., 1., 1., 1.],\n",
       "         [1., 1., 1., 1., 1., 1., 1., 1.]],\n",
       "\n",
       "        [[1., 1., 1., 1., 1., 1., 1., 1.],\n",
       "         [1., 1., 1., 1., 1., 1., 1., 1.],\n",
       "         [1., 1., 1., 1., 1., 1., 1., 1.]]],\n",
       "\n",
       "\n",
       "       [[[1., 1., 1., 1., 1., 1., 1., 1.],\n",
       "         [1., 1., 1., 1., 1., 1., 1., 1.],\n",
       "         [1., 1., 1., 1., 1., 1., 1., 1.]],\n",
       "\n",
       "        [[1., 1., 1., 1., 1., 1., 1., 1.],\n",
       "         [1., 1., 1., 1., 1., 1., 1., 1.],\n",
       "         [1., 1., 1., 1., 1., 1., 1., 1.]],\n",
       "\n",
       "        [[1., 1., 1., 1., 1., 1., 1., 1.],\n",
       "         [1., 1., 1., 1., 1., 1., 1., 1.],\n",
       "         [1., 1., 1., 1., 1., 1., 1., 1.]],\n",
       "\n",
       "        [[1., 1., 1., 1., 1., 1., 1., 1.],\n",
       "         [1., 1., 1., 1., 1., 1., 1., 1.],\n",
       "         [1., 1., 1., 1., 1., 1., 1., 1.]],\n",
       "\n",
       "        [[1., 1., 1., 1., 1., 1., 1., 1.],\n",
       "         [1., 1., 1., 1., 1., 1., 1., 1.],\n",
       "         [1., 1., 1., 1., 1., 1., 1., 1.]]]])"
      ]
     },
     "execution_count": 86,
     "metadata": {},
     "output_type": "execute_result"
    }
   ],
   "source": [
    "np.ones((2,5,3,8))"
   ]
  },
  {
   "cell_type": "code",
   "execution_count": 87,
   "id": "1bc6cd2f",
   "metadata": {},
   "outputs": [],
   "source": [
    "from numpy.random import default_rng"
   ]
  },
  {
   "cell_type": "code",
   "execution_count": 88,
   "id": "2e490a2f",
   "metadata": {},
   "outputs": [],
   "source": [
    "rg=default_rng(35)"
   ]
  },
  {
   "cell_type": "code",
   "execution_count": 94,
   "id": "11996a51",
   "metadata": {},
   "outputs": [
    {
     "data": {
      "text/plain": [
       "array([[7, 5, 9, 3, 5],\n",
       "       [3, 1, 2, 4, 6]], dtype=int64)"
      ]
     },
     "execution_count": 94,
     "metadata": {},
     "output_type": "execute_result"
    }
   ],
   "source": [
    "rg.integers(1,10,(2,5))"
   ]
  },
  {
   "cell_type": "code",
   "execution_count": 95,
   "id": "bad23527",
   "metadata": {},
   "outputs": [
    {
     "data": {
      "text/plain": [
       "array([[[[0.44552889, 0.63672257, 0.75551592, 0.98504898, 0.15350957,\n",
       "          0.58712446],\n",
       "         [0.6098813 , 0.39971139, 0.20897539, 0.57033367, 0.65021677,\n",
       "          0.65212516],\n",
       "         [0.28663189, 0.26650081, 0.96182506, 0.37655482, 0.64349467,\n",
       "          0.81998106]],\n",
       "\n",
       "        [[0.54286823, 0.72962765, 0.39450857, 0.42953695, 0.37893044,\n",
       "          0.24191062],\n",
       "         [0.78935447, 0.31029745, 0.43493826, 0.10625113, 0.18452496,\n",
       "          0.51793439],\n",
       "         [0.58637829, 0.69089502, 0.37658086, 0.29170051, 0.42545714,\n",
       "          0.02708429]],\n",
       "\n",
       "        [[0.78118986, 0.64879274, 0.64588931, 0.99222602, 0.09184049,\n",
       "          0.4759559 ],\n",
       "         [0.13976291, 0.86160548, 0.89077344, 0.25063698, 0.5454239 ,\n",
       "          0.77971941],\n",
       "         [0.01433633, 0.53699681, 0.36709086, 0.04829369, 0.20543101,\n",
       "          0.73839012]],\n",
       "\n",
       "        [[0.72460172, 0.27566078, 0.8336727 , 0.15419107, 0.63210286,\n",
       "          0.90490512],\n",
       "         [0.44671435, 0.08305231, 0.72780818, 0.92200325, 0.11761442,\n",
       "          0.38382342],\n",
       "         [0.08539875, 0.38225209, 0.54028133, 0.81307635, 0.51839608,\n",
       "          0.49956068]],\n",
       "\n",
       "        [[0.95098778, 0.01597986, 0.82558253, 0.1638796 , 0.30499078,\n",
       "          0.8098523 ],\n",
       "         [0.74055108, 0.19045463, 0.39802122, 0.59545411, 0.33621647,\n",
       "          0.38127356],\n",
       "         [0.57671041, 0.82550278, 0.1380229 , 0.67668552, 0.16939771,\n",
       "          0.56602294]]],\n",
       "\n",
       "\n",
       "       [[[0.9642508 , 0.12875383, 0.83212585, 0.00662871, 0.11040553,\n",
       "          0.20241831],\n",
       "         [0.63198707, 0.88801029, 0.26437444, 0.11194937, 0.90280999,\n",
       "          0.86502731],\n",
       "         [0.1364073 , 0.49372693, 0.632263  , 0.75216206, 0.10990056,\n",
       "          0.19067875]],\n",
       "\n",
       "        [[0.19453107, 0.31335807, 0.4093282 , 0.95385498, 0.22711066,\n",
       "          0.09391117],\n",
       "         [0.92030595, 0.9819949 , 0.25418805, 0.11530928, 0.68897001,\n",
       "          0.87492354],\n",
       "         [0.65565985, 0.16650313, 0.34053553, 0.04595974, 0.14562042,\n",
       "          0.48178265]],\n",
       "\n",
       "        [[0.0144504 , 0.70762216, 0.21457115, 0.27595084, 0.20925862,\n",
       "          0.91103553],\n",
       "         [0.08072802, 0.94431992, 0.96485177, 0.99319113, 0.33252568,\n",
       "          0.26820402],\n",
       "         [0.84344459, 0.25347525, 0.67057706, 0.2923991 , 0.79989768,\n",
       "          0.56050392]],\n",
       "\n",
       "        [[0.52032245, 0.0895922 , 0.60025114, 0.65984986, 0.50094843,\n",
       "          0.87727237],\n",
       "         [0.33506005, 0.69921655, 0.24371783, 0.56920271, 0.31804553,\n",
       "          0.41860926],\n",
       "         [0.03352025, 0.31193521, 0.43743194, 0.85609685, 0.25376161,\n",
       "          0.3466859 ]],\n",
       "\n",
       "        [[0.45529684, 0.82030723, 0.39481316, 0.41058801, 0.30210756,\n",
       "          0.56474108],\n",
       "         [0.12296512, 0.25364852, 0.84586308, 0.61397187, 0.89221932,\n",
       "          0.6752207 ],\n",
       "         [0.64981653, 0.07997769, 0.52843365, 0.98540997, 0.55207706,\n",
       "          0.12037468]]]])"
      ]
     },
     "execution_count": 95,
     "metadata": {},
     "output_type": "execute_result"
    }
   ],
   "source": [
    "rg.random((2,5,3,6))"
   ]
  },
  {
   "cell_type": "markdown",
   "id": "7ba695ad",
   "metadata": {},
   "source": [
    "Joining Arrays"
   ]
  },
  {
   "cell_type": "code",
   "execution_count": 96,
   "id": "21f0bfa3",
   "metadata": {},
   "outputs": [],
   "source": [
    "a=np.arange(9).reshape(3,3)"
   ]
  },
  {
   "cell_type": "code",
   "execution_count": 97,
   "id": "5a8bd5a6",
   "metadata": {},
   "outputs": [
    {
     "data": {
      "text/plain": [
       "array([[0, 1, 2],\n",
       "       [3, 4, 5],\n",
       "       [6, 7, 8]])"
      ]
     },
     "execution_count": 97,
     "metadata": {},
     "output_type": "execute_result"
    }
   ],
   "source": [
    "a"
   ]
  },
  {
   "cell_type": "code",
   "execution_count": 100,
   "id": "d3270a63",
   "metadata": {},
   "outputs": [],
   "source": [
    "b=np.arange(9,18).reshape(3,3)"
   ]
  },
  {
   "cell_type": "code",
   "execution_count": 101,
   "id": "f2e63c6c",
   "metadata": {},
   "outputs": [
    {
     "data": {
      "text/plain": [
       "array([[ 9, 10, 11],\n",
       "       [12, 13, 14],\n",
       "       [15, 16, 17]])"
      ]
     },
     "execution_count": 101,
     "metadata": {},
     "output_type": "execute_result"
    }
   ],
   "source": [
    "b"
   ]
  },
  {
   "cell_type": "code",
   "execution_count": 104,
   "id": "f20013dd",
   "metadata": {},
   "outputs": [
    {
     "data": {
      "text/plain": [
       "array([[ 0,  1,  2,  9, 10, 11],\n",
       "       [ 3,  4,  5, 12, 13, 14],\n",
       "       [ 6,  7,  8, 15, 16, 17]])"
      ]
     },
     "execution_count": 104,
     "metadata": {},
     "output_type": "execute_result"
    }
   ],
   "source": [
    "np.hstack((a,b))"
   ]
  },
  {
   "cell_type": "code",
   "execution_count": 105,
   "id": "d5a6af3a",
   "metadata": {},
   "outputs": [
    {
     "data": {
      "text/plain": [
       "array([[ 0,  1,  2],\n",
       "       [ 3,  4,  5],\n",
       "       [ 6,  7,  8],\n",
       "       [ 9, 10, 11],\n",
       "       [12, 13, 14],\n",
       "       [15, 16, 17]])"
      ]
     },
     "execution_count": 105,
     "metadata": {},
     "output_type": "execute_result"
    }
   ],
   "source": [
    "np.vstack((a,b))"
   ]
  },
  {
   "cell_type": "code",
   "execution_count": 106,
   "id": "d55049c5",
   "metadata": {},
   "outputs": [
    {
     "data": {
      "text/plain": [
       "(3, 3)"
      ]
     },
     "execution_count": 106,
     "metadata": {},
     "output_type": "execute_result"
    }
   ],
   "source": [
    "a.shape"
   ]
  },
  {
   "cell_type": "code",
   "execution_count": 107,
   "id": "99a72555",
   "metadata": {},
   "outputs": [
    {
     "data": {
      "text/plain": [
       "(3, 3)"
      ]
     },
     "execution_count": 107,
     "metadata": {},
     "output_type": "execute_result"
    }
   ],
   "source": [
    "b.shape"
   ]
  },
  {
   "cell_type": "code",
   "execution_count": 110,
   "id": "be90454a",
   "metadata": {},
   "outputs": [],
   "source": [
    "c=np.array([25,36,44])"
   ]
  },
  {
   "cell_type": "code",
   "execution_count": 112,
   "id": "c0fb8211",
   "metadata": {},
   "outputs": [],
   "source": [
    "a1=np.vstack((a,c))"
   ]
  },
  {
   "cell_type": "code",
   "execution_count": 119,
   "id": "6429772e",
   "metadata": {},
   "outputs": [
    {
     "data": {
      "text/plain": [
       "array([[ 0,  1,  2],\n",
       "       [ 3,  4,  5],\n",
       "       [ 6,  7,  8],\n",
       "       [25, 36, 44]])"
      ]
     },
     "execution_count": 119,
     "metadata": {},
     "output_type": "execute_result"
    }
   ],
   "source": [
    "a1"
   ]
  },
  {
   "cell_type": "code",
   "execution_count": 134,
   "id": "8afebae4",
   "metadata": {},
   "outputs": [],
   "source": [
    "b2=np.array([32,84,62,36])\n",
    "\n",
    "b2=b2[:,np.newaxis]"
   ]
  },
  {
   "cell_type": "code",
   "execution_count": 138,
   "id": "6c5e4e07",
   "metadata": {},
   "outputs": [
    {
     "data": {
      "text/plain": [
       "array([[ 0,  1,  2, 32],\n",
       "       [ 3,  4,  5, 84],\n",
       "       [ 6,  7,  8, 62],\n",
       "       [25, 36, 44, 36]])"
      ]
     },
     "execution_count": 138,
     "metadata": {},
     "output_type": "execute_result"
    }
   ],
   "source": [
    "np.hstack((a1,b2))"
   ]
  },
  {
   "cell_type": "code",
   "execution_count": 136,
   "id": "35e9a91d",
   "metadata": {},
   "outputs": [
    {
     "data": {
      "text/plain": [
       "array([[32],\n",
       "       [84],\n",
       "       [62],\n",
       "       [36]])"
      ]
     },
     "execution_count": 136,
     "metadata": {},
     "output_type": "execute_result"
    }
   ],
   "source": [
    "b2"
   ]
  },
  {
   "cell_type": "code",
   "execution_count": 137,
   "id": "645dacfd",
   "metadata": {},
   "outputs": [
    {
     "data": {
      "text/plain": [
       "array([[ 0,  1,  2],\n",
       "       [ 3,  4,  5],\n",
       "       [ 6,  7,  8],\n",
       "       [25, 36, 44]])"
      ]
     },
     "execution_count": 137,
     "metadata": {},
     "output_type": "execute_result"
    }
   ],
   "source": [
    "a1"
   ]
  },
  {
   "cell_type": "code",
   "execution_count": 139,
   "id": "3a741d90",
   "metadata": {},
   "outputs": [
    {
     "data": {
      "text/plain": [
       "array([[0, 1, 2],\n",
       "       [3, 4, 5],\n",
       "       [6, 7, 8]])"
      ]
     },
     "execution_count": 139,
     "metadata": {},
     "output_type": "execute_result"
    }
   ],
   "source": [
    "a"
   ]
  },
  {
   "cell_type": "code",
   "execution_count": 140,
   "id": "fde2d146",
   "metadata": {},
   "outputs": [
    {
     "data": {
      "text/plain": [
       "array([[ 9, 10, 11],\n",
       "       [12, 13, 14],\n",
       "       [15, 16, 17]])"
      ]
     },
     "execution_count": 140,
     "metadata": {},
     "output_type": "execute_result"
    }
   ],
   "source": [
    "b"
   ]
  },
  {
   "cell_type": "code",
   "execution_count": 141,
   "id": "e7ebaa9e",
   "metadata": {},
   "outputs": [
    {
     "data": {
      "text/plain": [
       "array([[ 0,  1,  2,  9, 10, 11],\n",
       "       [ 3,  4,  5, 12, 13, 14],\n",
       "       [ 6,  7,  8, 15, 16, 17]])"
      ]
     },
     "execution_count": 141,
     "metadata": {},
     "output_type": "execute_result"
    }
   ],
   "source": [
    "np.block([a,b])"
   ]
  },
  {
   "cell_type": "code",
   "execution_count": 142,
   "id": "67919684",
   "metadata": {},
   "outputs": [
    {
     "data": {
      "text/plain": [
       "array([[ 0,  1,  2],\n",
       "       [ 3,  4,  5],\n",
       "       [ 6,  7,  8],\n",
       "       [ 9, 10, 11],\n",
       "       [12, 13, 14],\n",
       "       [15, 16, 17]])"
      ]
     },
     "execution_count": 142,
     "metadata": {},
     "output_type": "execute_result"
    }
   ],
   "source": [
    "np.block([[a],[b]])"
   ]
  },
  {
   "cell_type": "markdown",
   "id": "b4b515f6",
   "metadata": {},
   "source": [
    "Indexing"
   ]
  },
  {
   "cell_type": "code",
   "execution_count": 144,
   "id": "48f2d028",
   "metadata": {},
   "outputs": [],
   "source": [
    "n=np.arange(8)"
   ]
  },
  {
   "cell_type": "code",
   "execution_count": 148,
   "id": "bc157db4",
   "metadata": {},
   "outputs": [
    {
     "data": {
      "text/plain": [
       "array([3, 4])"
      ]
     },
     "execution_count": 148,
     "metadata": {},
     "output_type": "execute_result"
    }
   ],
   "source": [
    "n[3:5]"
   ]
  },
  {
   "cell_type": "code",
   "execution_count": 150,
   "id": "f909037e",
   "metadata": {},
   "outputs": [
    {
     "data": {
      "text/plain": [
       "array([5, 6])"
      ]
     },
     "execution_count": 150,
     "metadata": {},
     "output_type": "execute_result"
    }
   ],
   "source": [
    "n[5:-1]"
   ]
  },
  {
   "cell_type": "code",
   "execution_count": 152,
   "id": "578fdf52",
   "metadata": {},
   "outputs": [
    {
     "data": {
      "text/plain": [
       "array([[0, 1, 2],\n",
       "       [3, 4, 5],\n",
       "       [6, 7, 8]])"
      ]
     },
     "execution_count": 152,
     "metadata": {},
     "output_type": "execute_result"
    }
   ],
   "source": [
    "a"
   ]
  },
  {
   "cell_type": "code",
   "execution_count": 156,
   "id": "a501236f",
   "metadata": {},
   "outputs": [
    {
     "data": {
      "text/plain": [
       "array([2, 5, 8])"
      ]
     },
     "execution_count": 156,
     "metadata": {},
     "output_type": "execute_result"
    }
   ],
   "source": [
    "a[:,-1]"
   ]
  },
  {
   "cell_type": "code",
   "execution_count": 157,
   "id": "f40f9651",
   "metadata": {},
   "outputs": [],
   "source": [
    "x=rg.random(25).reshape(5,5)"
   ]
  },
  {
   "cell_type": "code",
   "execution_count": 161,
   "id": "32891480",
   "metadata": {},
   "outputs": [
    {
     "data": {
      "text/plain": [
       "array([[0.04386162, 0.88215094],\n",
       "       [0.82219429, 0.90541961],\n",
       "       [0.5198632 , 0.07657059],\n",
       "       [0.02692642, 0.81054779],\n",
       "       [0.34033367, 0.59896922]])"
      ]
     },
     "execution_count": 161,
     "metadata": {},
     "output_type": "execute_result"
    }
   ],
   "source": [
    "x[:,[0,-1]]"
   ]
  },
  {
   "cell_type": "code",
   "execution_count": 170,
   "id": "35a67cd6",
   "metadata": {},
   "outputs": [
    {
     "data": {
      "text/plain": [
       "array([[0.04386162, 0.88215094],\n",
       "       [0.34033367, 0.59896922]])"
      ]
     },
     "execution_count": 170,
     "metadata": {},
     "output_type": "execute_result"
    }
   ],
   "source": [
    "x[[0,-1]][:,[0,-1]]"
   ]
  },
  {
   "cell_type": "code",
   "execution_count": 175,
   "id": "7465bf6e",
   "metadata": {},
   "outputs": [
    {
     "data": {
      "text/plain": [
       "array([[0.04386162, 0.88215094],\n",
       "       [0.34033367, 0.59896922]])"
      ]
     },
     "execution_count": 175,
     "metadata": {},
     "output_type": "execute_result"
    }
   ],
   "source": [
    "x[[0,-1]][:,[0,-1]]"
   ]
  },
  {
   "cell_type": "code",
   "execution_count": 177,
   "id": "1591bcf4",
   "metadata": {},
   "outputs": [
    {
     "data": {
      "text/plain": [
       "array([[0.07709737, 0.73028997, 0.11682557],\n",
       "       [0.05210995, 0.90326647, 0.85290381],\n",
       "       [0.79465092, 0.58344893, 0.5460462 ]])"
      ]
     },
     "execution_count": 177,
     "metadata": {},
     "output_type": "execute_result"
    }
   ],
   "source": [
    "x[1:-1,1:-1]"
   ]
  },
  {
   "cell_type": "code",
   "execution_count": 178,
   "id": "b4cbd81e",
   "metadata": {},
   "outputs": [
    {
     "data": {
      "text/plain": [
       "array([[0.04386162, 0.2325832 , 0.21187777, 0.3685983 , 0.88215094],\n",
       "       [0.82219429, 0.07709737, 0.73028997, 0.11682557, 0.90541961],\n",
       "       [0.5198632 , 0.05210995, 0.90326647, 0.85290381, 0.07657059],\n",
       "       [0.02692642, 0.79465092, 0.58344893, 0.5460462 , 0.81054779],\n",
       "       [0.34033367, 0.29749663, 0.05166125, 0.51200072, 0.59896922]])"
      ]
     },
     "execution_count": 178,
     "metadata": {},
     "output_type": "execute_result"
    }
   ],
   "source": [
    "x"
   ]
  },
  {
   "cell_type": "code",
   "execution_count": 179,
   "id": "0856cd4c",
   "metadata": {},
   "outputs": [
    {
     "data": {
      "text/plain": [
       "array([0.04386162, 0.07709737, 0.90326647, 0.5460462 , 0.59896922])"
      ]
     },
     "execution_count": 179,
     "metadata": {},
     "output_type": "execute_result"
    }
   ],
   "source": [
    "np.diag(x)"
   ]
  },
  {
   "cell_type": "code",
   "execution_count": 184,
   "id": "b225f4f9",
   "metadata": {},
   "outputs": [],
   "source": [
    "b=rg.integers(1,100,(2,5,3))"
   ]
  },
  {
   "cell_type": "code",
   "execution_count": 185,
   "id": "a12c11d6",
   "metadata": {},
   "outputs": [
    {
     "data": {
      "text/plain": [
       "array([[[30, 23, 67],\n",
       "        [51, 27, 77],\n",
       "        [84, 17,  6],\n",
       "        [31, 82, 40],\n",
       "        [34, 64, 18]],\n",
       "\n",
       "       [[17, 39, 20],\n",
       "        [94, 26, 56],\n",
       "        [74, 67, 62],\n",
       "        [17, 97, 73],\n",
       "        [29,  1, 55]]], dtype=int64)"
      ]
     },
     "execution_count": 185,
     "metadata": {},
     "output_type": "execute_result"
    }
   ],
   "source": [
    "b"
   ]
  },
  {
   "cell_type": "code",
   "execution_count": 196,
   "id": "8d31786f",
   "metadata": {},
   "outputs": [
    {
     "data": {
      "text/plain": [
       "array([67, 51, 77, 67, 97, 73, 55], dtype=int64)"
      ]
     },
     "execution_count": 196,
     "metadata": {},
     "output_type": "execute_result"
    }
   ],
   "source": [
    "b[(b%2==1)&(b>50)]"
   ]
  },
  {
   "cell_type": "code",
   "execution_count": 198,
   "id": "6927b9bd",
   "metadata": {},
   "outputs": [
    {
     "data": {
      "text/plain": [
       "array([23, 67, 51, 27, 77, 84, 17, 31, 82, 64, 17, 39, 56, 74, 67, 62, 17,\n",
       "       97, 73, 29,  1, 55], dtype=int64)"
      ]
     },
     "execution_count": 198,
     "metadata": {},
     "output_type": "execute_result"
    }
   ],
   "source": [
    "b[(b%2==1)|(b>50)&(b<90)]"
   ]
  },
  {
   "cell_type": "markdown",
   "id": "4f460072",
   "metadata": {},
   "source": [
    "Mathematical Operations"
   ]
  },
  {
   "cell_type": "code",
   "execution_count": 199,
   "id": "9190db4c",
   "metadata": {},
   "outputs": [
    {
     "data": {
      "text/plain": [
       "array([[0, 1, 2],\n",
       "       [3, 4, 5],\n",
       "       [6, 7, 8]])"
      ]
     },
     "execution_count": 199,
     "metadata": {},
     "output_type": "execute_result"
    }
   ],
   "source": [
    "a"
   ]
  },
  {
   "cell_type": "code",
   "execution_count": 201,
   "id": "63f58b4a",
   "metadata": {},
   "outputs": [],
   "source": [
    "b=np.arange(9,18).reshape(3,3)"
   ]
  },
  {
   "cell_type": "code",
   "execution_count": 202,
   "id": "4edd7eeb",
   "metadata": {},
   "outputs": [
    {
     "data": {
      "text/plain": [
       "array([[ 9, 10, 11],\n",
       "       [12, 13, 14],\n",
       "       [15, 16, 17]])"
      ]
     },
     "execution_count": 202,
     "metadata": {},
     "output_type": "execute_result"
    }
   ],
   "source": [
    "b"
   ]
  },
  {
   "cell_type": "code",
   "execution_count": 203,
   "id": "279a84c5",
   "metadata": {},
   "outputs": [
    {
     "data": {
      "text/plain": [
       "array([[ 9, 11, 13],\n",
       "       [15, 17, 19],\n",
       "       [21, 23, 25]])"
      ]
     },
     "execution_count": 203,
     "metadata": {},
     "output_type": "execute_result"
    }
   ],
   "source": [
    "a+b"
   ]
  },
  {
   "cell_type": "code",
   "execution_count": 205,
   "id": "f2dffdd1",
   "metadata": {},
   "outputs": [
    {
     "data": {
      "text/plain": [
       "array([[  0,  10,  22],\n",
       "       [ 36,  52,  70],\n",
       "       [ 90, 112, 136]])"
      ]
     },
     "execution_count": 205,
     "metadata": {},
     "output_type": "execute_result"
    }
   ],
   "source": [
    "a*b"
   ]
  },
  {
   "cell_type": "code",
   "execution_count": 206,
   "id": "4d0c10dc",
   "metadata": {},
   "outputs": [
    {
     "data": {
      "text/plain": [
       "array([[0, 1, 2],\n",
       "       [3, 4, 5],\n",
       "       [6, 7, 8]])"
      ]
     },
     "execution_count": 206,
     "metadata": {},
     "output_type": "execute_result"
    }
   ],
   "source": [
    "a"
   ]
  },
  {
   "cell_type": "code",
   "execution_count": 207,
   "id": "746e1403",
   "metadata": {},
   "outputs": [],
   "source": [
    "b1=b[0]"
   ]
  },
  {
   "cell_type": "code",
   "execution_count": 216,
   "id": "faadc1ee",
   "metadata": {},
   "outputs": [
    {
     "data": {
      "text/plain": [
       "array([[ 9, 10, 11],\n",
       "       [12, 13, 14],\n",
       "       [15, 16, 17]])"
      ]
     },
     "execution_count": 216,
     "metadata": {},
     "output_type": "execute_result"
    }
   ],
   "source": [
    "b"
   ]
  },
  {
   "cell_type": "code",
   "execution_count": 220,
   "id": "22ae5201",
   "metadata": {},
   "outputs": [],
   "source": [
    "v1=np.block([[np.diag(b)],[np.diag(b)],[np.diag(b)]])"
   ]
  },
  {
   "cell_type": "code",
   "execution_count": 222,
   "id": "0d99881a",
   "metadata": {},
   "outputs": [
    {
     "data": {
      "text/plain": [
       "array([[ 9, 13, 17],\n",
       "       [ 9, 13, 17],\n",
       "       [ 9, 13, 17]])"
      ]
     },
     "execution_count": 222,
     "metadata": {},
     "output_type": "execute_result"
    }
   ],
   "source": [
    "v1"
   ]
  },
  {
   "cell_type": "code",
   "execution_count": 217,
   "id": "4fbf895a",
   "metadata": {
    "scrolled": true
   },
   "outputs": [
    {
     "data": {
      "text/plain": [
       "array([[  0,  13,  34],\n",
       "       [ 27,  52,  85],\n",
       "       [ 54,  91, 136]])"
      ]
     },
     "execution_count": 217,
     "metadata": {},
     "output_type": "execute_result"
    }
   ],
   "source": [
    "a*np.diag(b)"
   ]
  },
  {
   "cell_type": "code",
   "execution_count": 223,
   "id": "1470d268",
   "metadata": {},
   "outputs": [
    {
     "data": {
      "text/plain": [
       "array([[  0,  13,  34],\n",
       "       [ 27,  52,  85],\n",
       "       [ 54,  91, 136]])"
      ]
     },
     "execution_count": 223,
     "metadata": {},
     "output_type": "execute_result"
    }
   ],
   "source": [
    "a*v1"
   ]
  },
  {
   "cell_type": "code",
   "execution_count": 224,
   "id": "62690ebe",
   "metadata": {},
   "outputs": [],
   "source": [
    "a=np.arange(25).reshape(5,5)"
   ]
  },
  {
   "cell_type": "code",
   "execution_count": 225,
   "id": "8069170f",
   "metadata": {},
   "outputs": [
    {
     "data": {
      "text/plain": [
       "array([[ 0,  1,  2,  3,  4],\n",
       "       [ 5,  6,  7,  8,  9],\n",
       "       [10, 11, 12, 13, 14],\n",
       "       [15, 16, 17, 18, 19],\n",
       "       [20, 21, 22, 23, 24]])"
      ]
     },
     "execution_count": 225,
     "metadata": {},
     "output_type": "execute_result"
    }
   ],
   "source": [
    "a"
   ]
  },
  {
   "cell_type": "code",
   "execution_count": 226,
   "id": "10321cd3",
   "metadata": {},
   "outputs": [],
   "source": [
    "c=np.array([1,2,3,4,5])"
   ]
  },
  {
   "cell_type": "code",
   "execution_count": 227,
   "id": "b3aeb51d",
   "metadata": {},
   "outputs": [
    {
     "data": {
      "text/plain": [
       "array([1, 2, 3, 4, 5])"
      ]
     },
     "execution_count": 227,
     "metadata": {},
     "output_type": "execute_result"
    }
   ],
   "source": [
    "c"
   ]
  },
  {
   "cell_type": "code",
   "execution_count": 230,
   "id": "666bd776",
   "metadata": {},
   "outputs": [
    {
     "data": {
      "text/plain": [
       "40"
      ]
     },
     "execution_count": 230,
     "metadata": {},
     "output_type": "execute_result"
    }
   ],
   "source": [
    "0*1+1*2+2*3+3*4+4*5"
   ]
  },
  {
   "cell_type": "code",
   "execution_count": 229,
   "id": "dbf80f63",
   "metadata": {},
   "outputs": [
    {
     "data": {
      "text/plain": [
       "array([ 40, 115, 190, 265, 340])"
      ]
     },
     "execution_count": 229,
     "metadata": {},
     "output_type": "execute_result"
    }
   ],
   "source": [
    "np.matmul(a,c)"
   ]
  },
  {
   "cell_type": "code",
   "execution_count": 232,
   "id": "33357b84",
   "metadata": {},
   "outputs": [
    {
     "data": {
      "text/plain": [
       "300"
      ]
     },
     "execution_count": 232,
     "metadata": {},
     "output_type": "execute_result"
    }
   ],
   "source": [
    "a.sum()"
   ]
  },
  {
   "cell_type": "code",
   "execution_count": 239,
   "id": "850fcec1",
   "metadata": {},
   "outputs": [
    {
     "data": {
      "text/plain": [
       "array([ 10,  35,  60,  85, 110])"
      ]
     },
     "execution_count": 239,
     "metadata": {},
     "output_type": "execute_result"
    }
   ],
   "source": [
    "a.sum(axis=1)"
   ]
  },
  {
   "cell_type": "code",
   "execution_count": 240,
   "id": "b99d4421",
   "metadata": {},
   "outputs": [
    {
     "data": {
      "text/plain": [
       "array([[ 0,  1,  2,  3,  4],\n",
       "       [ 5,  6,  7,  8,  9],\n",
       "       [10, 11, 12, 13, 14],\n",
       "       [15, 16, 17, 18, 19],\n",
       "       [20, 21, 22, 23, 24]])"
      ]
     },
     "execution_count": 240,
     "metadata": {},
     "output_type": "execute_result"
    }
   ],
   "source": [
    "a"
   ]
  },
  {
   "cell_type": "code",
   "execution_count": 242,
   "id": "4ab180a2",
   "metadata": {},
   "outputs": [
    {
     "data": {
      "text/plain": [
       "array([10., 11., 12., 13., 14.])"
      ]
     },
     "execution_count": 242,
     "metadata": {},
     "output_type": "execute_result"
    }
   ],
   "source": [
    "a.mean(axis=0)"
   ]
  },
  {
   "cell_type": "code",
   "execution_count": 244,
   "id": "578f604d",
   "metadata": {},
   "outputs": [
    {
     "data": {
      "text/plain": [
       "array([ 2.,  7., 12., 17., 22.])"
      ]
     },
     "execution_count": 244,
     "metadata": {},
     "output_type": "execute_result"
    }
   ],
   "source": [
    "a.mean(axis=1)"
   ]
  },
  {
   "cell_type": "code",
   "execution_count": null,
   "id": "f7742b89",
   "metadata": {},
   "outputs": [],
   "source": []
  },
  {
   "cell_type": "code",
   "execution_count": null,
   "id": "fd1fd97e",
   "metadata": {},
   "outputs": [],
   "source": []
  },
  {
   "cell_type": "code",
   "execution_count": null,
   "id": "dc4d455c",
   "metadata": {},
   "outputs": [],
   "source": []
  },
  {
   "cell_type": "code",
   "execution_count": 64,
   "id": "9fb58deb",
   "metadata": {},
   "outputs": [],
   "source": [
    "c=c.reshape(5,1)"
   ]
  },
  {
   "cell_type": "code",
   "execution_count": 65,
   "id": "f22fc2c4",
   "metadata": {},
   "outputs": [
    {
     "data": {
      "text/plain": [
       "array([[1],\n",
       "       [2],\n",
       "       [3],\n",
       "       [4],\n",
       "       [5]])"
      ]
     },
     "execution_count": 65,
     "metadata": {},
     "output_type": "execute_result"
    }
   ],
   "source": [
    "c"
   ]
  },
  {
   "cell_type": "code",
   "execution_count": 66,
   "id": "4be2e270",
   "metadata": {},
   "outputs": [
    {
     "data": {
      "text/plain": [
       "array([[  0,   1,   2,   3,   4],\n",
       "       [ 10,  12,  14,  16,  18],\n",
       "       [ 30,  33,  36,  39,  42],\n",
       "       [ 60,  64,  68,  72,  76],\n",
       "       [100, 105, 110, 115, 120]])"
      ]
     },
     "execution_count": 66,
     "metadata": {},
     "output_type": "execute_result"
    }
   ],
   "source": [
    "a*c"
   ]
  },
  {
   "cell_type": "code",
   "execution_count": 60,
   "id": "3f5a99d6",
   "metadata": {
    "scrolled": true
   },
   "outputs": [
    {
     "data": {
      "text/plain": [
       "array([ 40, 115, 190, 265, 340])"
      ]
     },
     "execution_count": 60,
     "metadata": {},
     "output_type": "execute_result"
    }
   ],
   "source": [
    "np.matmul(a,c)"
   ]
  },
  {
   "cell_type": "code",
   "execution_count": 61,
   "id": "51e2204b",
   "metadata": {},
   "outputs": [
    {
     "data": {
      "text/plain": [
       "array([ 40, 115, 190, 265, 340])"
      ]
     },
     "execution_count": 61,
     "metadata": {},
     "output_type": "execute_result"
    }
   ],
   "source": [
    "np.dot(a,c)"
   ]
  },
  {
   "cell_type": "code",
   "execution_count": null,
   "id": "e0664de4",
   "metadata": {},
   "outputs": [],
   "source": []
  }
 ],
 "metadata": {
  "kernelspec": {
   "display_name": "Python 3 (ipykernel)",
   "language": "python",
   "name": "python3"
  },
  "language_info": {
   "codemirror_mode": {
    "name": "ipython",
    "version": 3
   },
   "file_extension": ".py",
   "mimetype": "text/x-python",
   "name": "python",
   "nbconvert_exporter": "python",
   "pygments_lexer": "ipython3",
   "version": "3.8.10"
  }
 },
 "nbformat": 4,
 "nbformat_minor": 5
}
