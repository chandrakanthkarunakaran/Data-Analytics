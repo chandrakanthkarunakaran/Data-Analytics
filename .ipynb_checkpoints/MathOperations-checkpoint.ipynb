{
 "cells": [
  {
   "cell_type": "markdown",
   "id": "e0b31e79",
   "metadata": {},
   "source": [
    "Regression"
   ]
  },
  {
   "cell_type": "raw",
   "id": "22a6b022",
   "metadata": {},
   "source": [
    "Regression Equation (Line)\n",
    "\n",
    "y=ax1+bx2+cx3+y0\n",
    "\n",
    "where x1, x2, x3 are independent variables and y is dependent value and y0 y intercept"
   ]
  },
  {
   "cell_type": "code",
   "execution_count": 33,
   "id": "479c3f12",
   "metadata": {},
   "outputs": [],
   "source": [
    "import matplotlib.pyplot as plt\n",
    "import pandas as pd"
   ]
  },
  {
   "cell_type": "code",
   "execution_count": 34,
   "id": "4b784dce",
   "metadata": {},
   "outputs": [],
   "source": [
    "data=pd.read_csv(\"RegressionExample/advertising.csv\")"
   ]
  },
  {
   "cell_type": "code",
   "execution_count": 35,
   "id": "eaf714e7",
   "metadata": {},
   "outputs": [
    {
     "data": {
      "text/html": [
       "<div>\n",
       "<style scoped>\n",
       "    .dataframe tbody tr th:only-of-type {\n",
       "        vertical-align: middle;\n",
       "    }\n",
       "\n",
       "    .dataframe tbody tr th {\n",
       "        vertical-align: top;\n",
       "    }\n",
       "\n",
       "    .dataframe thead th {\n",
       "        text-align: right;\n",
       "    }\n",
       "</style>\n",
       "<table border=\"1\" class=\"dataframe\">\n",
       "  <thead>\n",
       "    <tr style=\"text-align: right;\">\n",
       "      <th></th>\n",
       "      <th>TV</th>\n",
       "      <th>Radio</th>\n",
       "      <th>Newspaper</th>\n",
       "      <th>Sales</th>\n",
       "    </tr>\n",
       "  </thead>\n",
       "  <tbody>\n",
       "    <tr>\n",
       "      <th>0</th>\n",
       "      <td>230.1</td>\n",
       "      <td>37.8</td>\n",
       "      <td>69.2</td>\n",
       "      <td>22.1</td>\n",
       "    </tr>\n",
       "    <tr>\n",
       "      <th>1</th>\n",
       "      <td>44.5</td>\n",
       "      <td>39.3</td>\n",
       "      <td>45.1</td>\n",
       "      <td>10.4</td>\n",
       "    </tr>\n",
       "    <tr>\n",
       "      <th>2</th>\n",
       "      <td>17.2</td>\n",
       "      <td>45.9</td>\n",
       "      <td>69.3</td>\n",
       "      <td>12.0</td>\n",
       "    </tr>\n",
       "    <tr>\n",
       "      <th>3</th>\n",
       "      <td>151.5</td>\n",
       "      <td>41.3</td>\n",
       "      <td>58.5</td>\n",
       "      <td>16.5</td>\n",
       "    </tr>\n",
       "    <tr>\n",
       "      <th>4</th>\n",
       "      <td>180.8</td>\n",
       "      <td>10.8</td>\n",
       "      <td>58.4</td>\n",
       "      <td>17.9</td>\n",
       "    </tr>\n",
       "    <tr>\n",
       "      <th>...</th>\n",
       "      <td>...</td>\n",
       "      <td>...</td>\n",
       "      <td>...</td>\n",
       "      <td>...</td>\n",
       "    </tr>\n",
       "    <tr>\n",
       "      <th>195</th>\n",
       "      <td>38.2</td>\n",
       "      <td>3.7</td>\n",
       "      <td>13.8</td>\n",
       "      <td>7.6</td>\n",
       "    </tr>\n",
       "    <tr>\n",
       "      <th>196</th>\n",
       "      <td>94.2</td>\n",
       "      <td>4.9</td>\n",
       "      <td>8.1</td>\n",
       "      <td>14.0</td>\n",
       "    </tr>\n",
       "    <tr>\n",
       "      <th>197</th>\n",
       "      <td>177.0</td>\n",
       "      <td>9.3</td>\n",
       "      <td>6.4</td>\n",
       "      <td>14.8</td>\n",
       "    </tr>\n",
       "    <tr>\n",
       "      <th>198</th>\n",
       "      <td>283.6</td>\n",
       "      <td>42.0</td>\n",
       "      <td>66.2</td>\n",
       "      <td>25.5</td>\n",
       "    </tr>\n",
       "    <tr>\n",
       "      <th>199</th>\n",
       "      <td>232.1</td>\n",
       "      <td>8.6</td>\n",
       "      <td>8.7</td>\n",
       "      <td>18.4</td>\n",
       "    </tr>\n",
       "  </tbody>\n",
       "</table>\n",
       "<p>200 rows × 4 columns</p>\n",
       "</div>"
      ],
      "text/plain": [
       "        TV  Radio  Newspaper  Sales\n",
       "0    230.1   37.8       69.2   22.1\n",
       "1     44.5   39.3       45.1   10.4\n",
       "2     17.2   45.9       69.3   12.0\n",
       "3    151.5   41.3       58.5   16.5\n",
       "4    180.8   10.8       58.4   17.9\n",
       "..     ...    ...        ...    ...\n",
       "195   38.2    3.7       13.8    7.6\n",
       "196   94.2    4.9        8.1   14.0\n",
       "197  177.0    9.3        6.4   14.8\n",
       "198  283.6   42.0       66.2   25.5\n",
       "199  232.1    8.6        8.7   18.4\n",
       "\n",
       "[200 rows x 4 columns]"
      ]
     },
     "execution_count": 35,
     "metadata": {},
     "output_type": "execute_result"
    }
   ],
   "source": [
    "data"
   ]
  },
  {
   "cell_type": "code",
   "execution_count": 4,
   "id": "169bcca5",
   "metadata": {},
   "outputs": [
    {
     "data": {
      "image/png": "[encoded data removed]",
      "text/plain": [
       "<Figure size 432x288 with 1 Axes>"
      ]
     },
     "metadata": {
      "needs_background": "light"
     },
     "output_type": "display_data"
    }
   ],
   "source": [
    "plt.scatter(x=data[\"TV\"],y=data[\"Sales\"],marker=\"o\",edgecolors=\"black\")\n",
    "plt.title(\"Advertisement On TV and Sales Achieved\")\n",
    "plt.show()"
   ]
  },
  {
   "cell_type": "code",
   "execution_count": 5,
   "id": "209bc379",
   "metadata": {},
   "outputs": [
    {
     "data": {
      "text/html": [
       "<div>\n",
       "<style scoped>\n",
       "    .dataframe tbody tr th:only-of-type {\n",
       "        vertical-align: middle;\n",
       "    }\n",
       "\n",
       "    .dataframe tbody tr th {\n",
       "        vertical-align: top;\n",
       "    }\n",
       "\n",
       "    .dataframe thead th {\n",
       "        text-align: right;\n",
       "    }\n",
       "</style>\n",
       "<table border=\"1\" class=\"dataframe\">\n",
       "  <thead>\n",
       "    <tr style=\"text-align: right;\">\n",
       "      <th></th>\n",
       "      <th>TV</th>\n",
       "      <th>Sales</th>\n",
       "    </tr>\n",
       "  </thead>\n",
       "  <tbody>\n",
       "    <tr>\n",
       "      <th>0</th>\n",
       "      <td>230.1</td>\n",
       "      <td>22.1</td>\n",
       "    </tr>\n",
       "    <tr>\n",
       "      <th>1</th>\n",
       "      <td>44.5</td>\n",
       "      <td>10.4</td>\n",
       "    </tr>\n",
       "    <tr>\n",
       "      <th>2</th>\n",
       "      <td>17.2</td>\n",
       "      <td>12.0</td>\n",
       "    </tr>\n",
       "    <tr>\n",
       "      <th>3</th>\n",
       "      <td>151.5</td>\n",
       "      <td>16.5</td>\n",
       "    </tr>\n",
       "    <tr>\n",
       "      <th>4</th>\n",
       "      <td>180.8</td>\n",
       "      <td>17.9</td>\n",
       "    </tr>\n",
       "    <tr>\n",
       "      <th>...</th>\n",
       "      <td>...</td>\n",
       "      <td>...</td>\n",
       "    </tr>\n",
       "    <tr>\n",
       "      <th>195</th>\n",
       "      <td>38.2</td>\n",
       "      <td>7.6</td>\n",
       "    </tr>\n",
       "    <tr>\n",
       "      <th>196</th>\n",
       "      <td>94.2</td>\n",
       "      <td>14.0</td>\n",
       "    </tr>\n",
       "    <tr>\n",
       "      <th>197</th>\n",
       "      <td>177.0</td>\n",
       "      <td>14.8</td>\n",
       "    </tr>\n",
       "    <tr>\n",
       "      <th>198</th>\n",
       "      <td>283.6</td>\n",
       "      <td>25.5</td>\n",
       "    </tr>\n",
       "    <tr>\n",
       "      <th>199</th>\n",
       "      <td>232.1</td>\n",
       "      <td>18.4</td>\n",
       "    </tr>\n",
       "  </tbody>\n",
       "</table>\n",
       "<p>200 rows × 2 columns</p>\n",
       "</div>"
      ],
      "text/plain": [
       "        TV  Sales\n",
       "0    230.1   22.1\n",
       "1     44.5   10.4\n",
       "2     17.2   12.0\n",
       "3    151.5   16.5\n",
       "4    180.8   17.9\n",
       "..     ...    ...\n",
       "195   38.2    7.6\n",
       "196   94.2   14.0\n",
       "197  177.0   14.8\n",
       "198  283.6   25.5\n",
       "199  232.1   18.4\n",
       "\n",
       "[200 rows x 2 columns]"
      ]
     },
     "execution_count": 5,
     "metadata": {},
     "output_type": "execute_result"
    }
   ],
   "source": [
    "data[[\"TV\",\"Sales\"]]"
   ]
  },
  {
   "cell_type": "code",
   "execution_count": 6,
   "id": "9e2ffa5c",
   "metadata": {},
   "outputs": [],
   "source": [
    "lineTrial1=[(0,5),(300,25)]"
   ]
  },
  {
   "cell_type": "code",
   "execution_count": 7,
   "id": "b2e2cc5b",
   "metadata": {},
   "outputs": [],
   "source": [
    "# y=mx+c"
   ]
  },
  {
   "cell_type": "code",
   "execution_count": 8,
   "id": "37d6a18c",
   "metadata": {},
   "outputs": [],
   "source": [
    "# m=(y-c)/x"
   ]
  },
  {
   "cell_type": "code",
   "execution_count": 9,
   "id": "101aaa72",
   "metadata": {},
   "outputs": [],
   "source": [
    "m=(25-5)/300"
   ]
  },
  {
   "cell_type": "code",
   "execution_count": 10,
   "id": "e5a37ffd",
   "metadata": {},
   "outputs": [
    {
     "data": {
      "text/plain": [
       "0.06666666666666667"
      ]
     },
     "execution_count": 10,
     "metadata": {},
     "output_type": "execute_result"
    }
   ],
   "source": [
    "m"
   ]
  },
  {
   "cell_type": "code",
   "execution_count": 11,
   "id": "5a015130",
   "metadata": {},
   "outputs": [],
   "source": [
    "predictedOutputs=[(m*x)+5 for x in list(data[\"TV\"])]"
   ]
  },
  {
   "cell_type": "code",
   "execution_count": 12,
   "id": "82f37222",
   "metadata": {},
   "outputs": [],
   "source": [
    "sumSquare=sum([(data[\"Sales\"][i]-predictedOutputs[i])**2 for i in range(len(predictedOutputs))])"
   ]
  },
  {
   "cell_type": "code",
   "execution_count": 13,
   "id": "f2ddac45",
   "metadata": {},
   "outputs": [
    {
     "data": {
      "text/plain": [
       "1249.0819555555559"
      ]
     },
     "execution_count": 13,
     "metadata": {},
     "output_type": "execute_result"
    }
   ],
   "source": [
    "sumSquare"
   ]
  },
  {
   "cell_type": "code",
   "execution_count": 14,
   "id": "39993c24",
   "metadata": {},
   "outputs": [],
   "source": [
    "lineTrial2=[(0,5),(250,25)]"
   ]
  },
  {
   "cell_type": "code",
   "execution_count": 15,
   "id": "2c92a383",
   "metadata": {},
   "outputs": [],
   "source": [
    "m=(25-5)/250"
   ]
  },
  {
   "cell_type": "code",
   "execution_count": 16,
   "id": "dc59a421",
   "metadata": {},
   "outputs": [],
   "source": [
    "predictedOutputs=[(m*x)+5 for x in list(data[\"TV\"])]"
   ]
  },
  {
   "cell_type": "code",
   "execution_count": 17,
   "id": "24153468",
   "metadata": {},
   "outputs": [],
   "source": [
    "sumSquare=sum([(data[\"Sales\"][i]-predictedOutputs[i])**2 for i in range(len(predictedOutputs))])"
   ]
  },
  {
   "cell_type": "code",
   "execution_count": 18,
   "id": "93933b49",
   "metadata": {},
   "outputs": [
    {
     "data": {
      "text/plain": [
       "2459.8132959999994"
      ]
     },
     "execution_count": 18,
     "metadata": {},
     "output_type": "execute_result"
    }
   ],
   "source": [
    "sumSquare"
   ]
  },
  {
   "cell_type": "code",
   "execution_count": 19,
   "id": "1ea0b8cd",
   "metadata": {},
   "outputs": [],
   "source": [
    "from sklearn import linear_model\n",
    "reg = linear_model.LinearRegression()"
   ]
  },
  {
   "cell_type": "code",
   "execution_count": 21,
   "id": "00ff1c22",
   "metadata": {},
   "outputs": [
    {
     "data": {
      "text/html": [
       "<style>#sk-container-id-1 {color: black;background-color: white;}#sk-container-id-1 pre{padding: 0;}#sk-container-id-1 div.sk-toggleable {background-color: white;}#sk-container-id-1 label.sk-toggleable__label {cursor: pointer;display: block;width: 100%;margin-bottom: 0;padding: 0.3em;box-sizing: border-box;text-align: center;}#sk-container-id-1 label.sk-toggleable__label-arrow:before {content: \"▸\";float: left;margin-right: 0.25em;color: #696969;}#sk-container-id-1 label.sk-toggleable__label-arrow:hover:before {color: black;}#sk-container-id-1 div.sk-estimator:hover label.sk-toggleable__label-arrow:before {color: black;}#sk-container-id-1 div.sk-toggleable__content {max-height: 0;max-width: 0;overflow: hidden;text-align: left;background-color: #f0f8ff;}#sk-container-id-1 div.sk-toggleable__content pre {margin: 0.2em;color: black;border-radius: 0.25em;background-color: #f0f8ff;}#sk-container-id-1 input.sk-toggleable__control:checked~div.sk-toggleable__content {max-height: 200px;max-width: 100%;overflow: auto;}#sk-container-id-1 input.sk-toggleable__control:checked~label.sk-toggleable__label-arrow:before {content: \"▾\";}#sk-container-id-1 div.sk-estimator input.sk-toggleable__control:checked~label.sk-toggleable__label {background-color: #d4ebff;}#sk-container-id-1 div.sk-label input.sk-toggleable__control:checked~label.sk-toggleable__label {background-color: #d4ebff;}#sk-container-id-1 input.sk-hidden--visually {border: 0;clip: rect(1px 1px 1px 1px);clip: rect(1px, 1px, 1px, 1px);height: 1px;margin: -1px;overflow: hidden;padding: 0;position: absolute;width: 1px;}#sk-container-id-1 div.sk-estimator {font-family: monospace;background-color: #f0f8ff;border: 1px dotted black;border-radius: 0.25em;box-sizing: border-box;margin-bottom: 0.5em;}#sk-container-id-1 div.sk-estimator:hover {background-color: #d4ebff;}#sk-container-id-1 div.sk-parallel-item::after {content: \"\";width: 100%;border-bottom: 1px solid gray;flex-grow: 1;}#sk-container-id-1 div.sk-label:hover label.sk-toggleable__label {background-color: #d4ebff;}#sk-container-id-1 div.sk-serial::before {content: \"\";position: absolute;border-left: 1px solid gray;box-sizing: border-box;top: 0;bottom: 0;left: 50%;z-index: 0;}#sk-container-id-1 div.sk-serial {display: flex;flex-direction: column;align-items: center;background-color: white;padding-right: 0.2em;padding-left: 0.2em;position: relative;}#sk-container-id-1 div.sk-item {position: relative;z-index: 1;}#sk-container-id-1 div.sk-parallel {display: flex;align-items: stretch;justify-content: center;background-color: white;position: relative;}#sk-container-id-1 div.sk-item::before, #sk-container-id-1 div.sk-parallel-item::before {content: \"\";position: absolute;border-left: 1px solid gray;box-sizing: border-box;top: 0;bottom: 0;left: 50%;z-index: -1;}#sk-container-id-1 div.sk-parallel-item {display: flex;flex-direction: column;z-index: 1;position: relative;background-color: white;}#sk-container-id-1 div.sk-parallel-item:first-child::after {align-self: flex-end;width: 50%;}#sk-container-id-1 div.sk-parallel-item:last-child::after {align-self: flex-start;width: 50%;}#sk-container-id-1 div.sk-parallel-item:only-child::after {width: 0;}#sk-container-id-1 div.sk-dashed-wrapped {border: 1px dashed gray;margin: 0 0.4em 0.5em 0.4em;box-sizing: border-box;padding-bottom: 0.4em;background-color: white;}#sk-container-id-1 div.sk-label label {font-family: monospace;font-weight: bold;display: inline-block;line-height: 1.2em;}#sk-container-id-1 div.sk-label-container {text-align: center;}#sk-container-id-1 div.sk-container {/* jupyter's `normalize.less` sets `[hidden] { display: none; }` but bootstrap.min.css set `[hidden] { display: none !important; }` so we also need the `!important` here to be able to override the default hidden behavior on the sphinx rendered scikit-learn.org. See: https://github.com/scikit-learn/scikit-learn/issues/21755 */display: inline-block !important;position: relative;}#sk-container-id-1 div.sk-text-repr-fallback {display: none;}</style><div id=\"sk-container-id-1\" class=\"sk-top-container\"><div class=\"sk-text-repr-fallback\"><pre>LinearRegression()</pre><b>In a Jupyter environment, please rerun this cell to show the HTML representation or trust the notebook. <br />On GitHub, the HTML representation is unable to render, please try loading this page with nbviewer.org.</b></div><div class=\"sk-container\" hidden><div class=\"sk-item\"><div class=\"sk-estimator sk-toggleable\"><input class=\"sk-toggleable__control sk-hidden--visually\" id=\"sk-estimator-id-1\" type=\"checkbox\" checked><label for=\"sk-estimator-id-1\" class=\"sk-toggleable__label sk-toggleable__label-arrow\">LinearRegression</label><div class=\"sk-toggleable__content\"><pre>LinearRegression()</pre></div></div></div></div></div>"
      ],
      "text/plain": [
       "LinearRegression()"
      ]
     },
     "execution_count": 21,
     "metadata": {},
     "output_type": "execute_result"
    }
   ],
   "source": [
    "reg.fit(data[[\"TV\"]],data[\"Sales\"])"
   ]
  },
  {
   "cell_type": "code",
   "execution_count": 26,
   "id": "94f4fdb4",
   "metadata": {},
   "outputs": [],
   "source": [
    "mMachine=list(reg.coef_)[0]"
   ]
  },
  {
   "cell_type": "code",
   "execution_count": 28,
   "id": "1c1d4e9c",
   "metadata": {},
   "outputs": [],
   "source": [
    "intrMachine=reg.intercept_"
   ]
  },
  {
   "cell_type": "code",
   "execution_count": 29,
   "id": "b67c0a3e",
   "metadata": {},
   "outputs": [],
   "source": [
    "predictedOutputs=[(mMachine*x)+intrmachine for x in list(data[\"TV\"])]"
   ]
  },
  {
   "cell_type": "code",
   "execution_count": 30,
   "id": "ef243f27",
   "metadata": {},
   "outputs": [
    {
     "data": {
      "text/plain": [
       "[19.73726517327539,\n",
       " 9.44300377412526,\n",
       " 7.928815540306303,\n",
       " 15.37773421436806,\n",
       " 17.002851989126135,\n",
       " 7.457364991315053,\n",
       " 10.164045790229526,\n",
       " 13.641686898670867,\n",
       " 7.451818514268097,\n",
       " 18.056682628047753,\n",
       " 10.641042816267731,\n",
       " 18.88310770804418,\n",
       " 8.294883025405392,\n",
       " 12.38263660901188,\n",
       " 18.295181141066855,\n",
       " 17.812637637981695,\n",
       " 10.735332926065983,\n",
       " 22.582607898363754,\n",
       " 10.812983604723364,\n",
       " 15.144782178395914,\n",
       " 19.088327358781548,\n",
       " 20.142157997703166,\n",
       " 7.706956458428068,\n",
       " 19.637428586430183,\n",
       " 10.430276688483408,\n",
       " 21.556509644676918,\n",
       " 14.900737188329854,\n",
       " 20.291912877970976,\n",
       " 20.77445638105614,\n",
       " 10.890634283380747,\n",
       " 23.220452758763685,\n",
       " 13.236794074243088,\n",
       " 12.365997177871012,\n",
       " 21.70626452494473,\n",
       " 12.282800022166676,\n",
       " 23.098430263730656,\n",
       " 21.77836872655515,\n",
       " 11.118039842305938,\n",
       " 9.365353095467878,\n",
       " 19.620789155289316,\n",
       " 18.206437508315563,\n",
       " 16.79208586134181,\n",
       " 23.25927809809238,\n",
       " 18.45048249838162,\n",
       " 8.36698722701582,\n",
       " 16.686702797449648,\n",
       " 11.950011399349322,\n",
       " 20.280819923877065,\n",
       " 19.576417338913664,\n",
       " 10.68541463264338,\n",
       " 18.056682628047753,\n",
       " 12.543484443373602,\n",
       " 18.97739781784243,\n",
       " 17.102688575971342,\n",
       " 21.545416690583007,\n",
       " 18.006764334625153,\n",
       " 7.37971431265767,\n",
       " 14.52912322618381,\n",
       " 18.666795103212902,\n",
       " 18.661248626165943,\n",
       " 9.94218670835129,\n",
       " 21.467766011925626,\n",
       " 20.247541061595328,\n",
       " 12.671053415453589,\n",
       " 14.24625289678906,\n",
       " 10.801890650629453,\n",
       " 8.721961758020996,\n",
       " 14.701064014639442,\n",
       " 20.142157997703166,\n",
       " 18.999583726030256,\n",
       " 18.017857288719064,\n",
       " 13.064853285787455,\n",
       " 8.461277336814069,\n",
       " 14.15196278699081,\n",
       " 18.811003506433757,\n",
       " 7.9121761091654355,\n",
       " 8.50010267614276,\n",
       " 13.658326329811736,\n",
       " 7.274331248765509,\n",
       " 13.40873486269872,\n",
       " 11.212329952104188,\n",
       " 20.27527344683011,\n",
       " 11.151318704587673,\n",
       " 10.768611788347718,\n",
       " 18.816549983480712,\n",
       " 17.690615142948666,\n",
       " 11.206783475057232,\n",
       " 13.114771579210057,\n",
       " 11.87236072069194,\n",
       " 13.064853285787455,\n",
       " 14.423740162291647,\n",
       " 8.561113923659274,\n",
       " 19.04950201945286,\n",
       " 20.890932399042214,\n",
       " 12.931737836660513,\n",
       " 16.032218505908855,\n",
       " 17.934660133014724,\n",
       " 17.230257548051327,\n",
       " 23.042965493261093,\n",
       " 14.47365845571425,\n",
       " 19.310186440659784,\n",
       " 23.414579455407143,\n",
       " 22.516050173800288,\n",
       " 17.396651859460004,\n",
       " 20.186529814078813,\n",
       " 14.623413335982061,\n",
       " 8.361440749968862,\n",
       " 11.988836738678014,\n",
       " 7.701409981381111,\n",
       " 21.140523866155227,\n",
       " 19.498766660256287,\n",
       " 20.380656510722268,\n",
       " 16.719981659731385,\n",
       " 18.60023737864943,\n",
       " 11.312166538949395,\n",
       " 11.140225750493762,\n",
       " 14.695517537592487,\n",
       " 11.212329952104188,\n",
       " 13.946743136253442,\n",
       " 8.050838035339332,\n",
       " 14.81199355557856,\n",
       " 8.017559173057597,\n",
       " 19.39893007341108,\n",
       " 13.802534733032587,\n",
       " 19.703986310993653,\n",
       " 11.811349473175426,\n",
       " 7.40744669789245,\n",
       " 11.423096079888513,\n",
       " 19.19371042267371,\n",
       " 10.2805218082156,\n",
       " 7.013646827558582,\n",
       " 21.684078616756903,\n",
       " 7.440725560174185,\n",
       " 19.165978037438933,\n",
       " 9.021471518556613,\n",
       " 9.653769901909584,\n",
       " 8.394719612250597,\n",
       " 22.155529165748156,\n",
       " 9.359806618420922,\n",
       " 17.230257548051327,\n",
       " 11.045935640695513,\n",
       " 17.718347528183443,\n",
       " 19.20480337676762,\n",
       " 12.776436479345747,\n",
       " 12.310532407401453,\n",
       " 14.756528785109001,\n",
       " 20.291912877970976,\n",
       " 20.46385366642661,\n",
       " 9.082482766073127,\n",
       " 9.454096728219172,\n",
       " 22.543782559035066,\n",
       " 13.686058715046514,\n",
       " 17.934660133014724,\n",
       " 16.475936669665327,\n",
       " 17.39110538241305,\n",
       " 7.202227047155082,\n",
       " 12.182963435321469,\n",
       " 15.28344410456981,\n",
       " 7.623759302723729,\n",
       " 14.279531759070794,\n",
       " 16.542494394228797,\n",
       " 11.728152317471086,\n",
       " 17.424384244694785,\n",
       " 16.04331146000277,\n",
       " 13.47529258726219,\n",
       " 19.981310163341448,\n",
       " 7.9676408796349945,\n",
       " 18.444936021334666,\n",
       " 18.921933047372875,\n",
       " 22.74345573272548,\n",
       " 9.748060011707835,\n",
       " 16.098776230472325,\n",
       " 8.061930989433245,\n",
       " 16.315088835303605,\n",
       " 19.310186440659784,\n",
       " 22.33301643125074,\n",
       " 20.752270472868318,\n",
       " 16.414925422148812,\n",
       " 22.32192347715683,\n",
       " 16.15978747798884,\n",
       " 15.66060454376281,\n",
       " 19.093873835828504,\n",
       " 10.0919415886191,\n",
       " 22.926489475275027,\n",
       " 21.05178023340393,\n",
       " 18.345099434489462,\n",
       " 14.712156968733353,\n",
       " 17.574139124962592,\n",
       " 22.83774584252373,\n",
       " 8.012012696010641,\n",
       " 9.165679921777466,\n",
       " 11.162411658681584,\n",
       " 7.928815540306303,\n",
       " 16.22634520255231,\n",
       " 15.277897627522854,\n",
       " 9.09357572016704,\n",
       " 12.199602866462337,\n",
       " 16.79208586134181,\n",
       " 22.70463039339679,\n",
       " 19.848194714214507]"
      ]
     },
     "execution_count": 30,
     "metadata": {},
     "output_type": "execute_result"
    }
   ],
   "source": [
    "predictedOutputs"
   ]
  },
  {
   "cell_type": "code",
   "execution_count": 32,
   "id": "7042786f",
   "metadata": {},
   "outputs": [
    {
     "data": {
      "text/plain": [
       "1043.5487795590257"
      ]
     },
     "execution_count": 32,
     "metadata": {},
     "output_type": "execute_result"
    }
   ],
   "source": [
    "sumSquare=sum([(data[\"Sales\"][i]-predictedOutputs[i])**2 for i in range(len(predictedOutputs))])\n",
    "\n",
    "sumSquare"
   ]
  },
  {
   "cell_type": "raw",
   "id": "d48fe342",
   "metadata": {},
   "source": [
    "Correlation Coefficient\n",
    "\n",
    "\n",
    "correlCoeff= σXY\n",
    "            ------\n",
    "             σXσY"
   ]
  },
  {
   "cell_type": "code",
   "execution_count": 93,
   "id": "af5563a5",
   "metadata": {},
   "outputs": [
    {
     "data": {
      "text/html": [
       "<div>\n",
       "<style scoped>\n",
       "    .dataframe tbody tr th:only-of-type {\n",
       "        vertical-align: middle;\n",
       "    }\n",
       "\n",
       "    .dataframe tbody tr th {\n",
       "        vertical-align: top;\n",
       "    }\n",
       "\n",
       "    .dataframe thead th {\n",
       "        text-align: right;\n",
       "    }\n",
       "</style>\n",
       "<table border=\"1\" class=\"dataframe\">\n",
       "  <thead>\n",
       "    <tr style=\"text-align: right;\">\n",
       "      <th></th>\n",
       "      <th>TV</th>\n",
       "      <th>Radio</th>\n",
       "    </tr>\n",
       "  </thead>\n",
       "  <tbody>\n",
       "    <tr>\n",
       "      <th>0</th>\n",
       "      <td>230.1</td>\n",
       "      <td>37.8</td>\n",
       "    </tr>\n",
       "    <tr>\n",
       "      <th>1</th>\n",
       "      <td>44.5</td>\n",
       "      <td>39.3</td>\n",
       "    </tr>\n",
       "    <tr>\n",
       "      <th>2</th>\n",
       "      <td>17.2</td>\n",
       "      <td>45.9</td>\n",
       "    </tr>\n",
       "    <tr>\n",
       "      <th>3</th>\n",
       "      <td>151.5</td>\n",
       "      <td>41.3</td>\n",
       "    </tr>\n",
       "    <tr>\n",
       "      <th>4</th>\n",
       "      <td>180.8</td>\n",
       "      <td>10.8</td>\n",
       "    </tr>\n",
       "    <tr>\n",
       "      <th>...</th>\n",
       "      <td>...</td>\n",
       "      <td>...</td>\n",
       "    </tr>\n",
       "    <tr>\n",
       "      <th>195</th>\n",
       "      <td>38.2</td>\n",
       "      <td>3.7</td>\n",
       "    </tr>\n",
       "    <tr>\n",
       "      <th>196</th>\n",
       "      <td>94.2</td>\n",
       "      <td>4.9</td>\n",
       "    </tr>\n",
       "    <tr>\n",
       "      <th>197</th>\n",
       "      <td>177.0</td>\n",
       "      <td>9.3</td>\n",
       "    </tr>\n",
       "    <tr>\n",
       "      <th>198</th>\n",
       "      <td>283.6</td>\n",
       "      <td>42.0</td>\n",
       "    </tr>\n",
       "    <tr>\n",
       "      <th>199</th>\n",
       "      <td>232.1</td>\n",
       "      <td>8.6</td>\n",
       "    </tr>\n",
       "  </tbody>\n",
       "</table>\n",
       "<p>200 rows × 2 columns</p>\n",
       "</div>"
      ],
      "text/plain": [
       "        TV  Radio\n",
       "0    230.1   37.8\n",
       "1     44.5   39.3\n",
       "2     17.2   45.9\n",
       "3    151.5   41.3\n",
       "4    180.8   10.8\n",
       "..     ...    ...\n",
       "195   38.2    3.7\n",
       "196   94.2    4.9\n",
       "197  177.0    9.3\n",
       "198  283.6   42.0\n",
       "199  232.1    8.6\n",
       "\n",
       "[200 rows x 2 columns]"
      ]
     },
     "execution_count": 93,
     "metadata": {},
     "output_type": "execute_result"
    }
   ],
   "source": [
    "data[[\"TV\",\"Radio\"]]"
   ]
  },
  {
   "cell_type": "code",
   "execution_count": 94,
   "id": "03b22884",
   "metadata": {},
   "outputs": [],
   "source": [
    "x=list(data[\"TV\"])\n",
    "y=list(data[\"Radio\"])"
   ]
  },
  {
   "cell_type": "code",
   "execution_count": 95,
   "id": "587e278e",
   "metadata": {},
   "outputs": [],
   "source": [
    "xSquare=[i**2 for i in x]\n",
    "\n",
    "ySquare=[j**2 for j in y]"
   ]
  },
  {
   "cell_type": "code",
   "execution_count": 96,
   "id": "6faf6f2c",
   "metadata": {},
   "outputs": [],
   "source": [
    "xy=[i*j for i,j in zip(x,y)]"
   ]
  },
  {
   "cell_type": "code",
   "execution_count": 97,
   "id": "b2e1f9cf",
   "metadata": {},
   "outputs": [],
   "source": [
    "numRows=len(x)"
   ]
  },
  {
   "cell_type": "code",
   "execution_count": 98,
   "id": "d10d5cb5",
   "metadata": {},
   "outputs": [
    {
     "data": {
      "text/plain": [
       "200"
      ]
     },
     "execution_count": 98,
     "metadata": {},
     "output_type": "execute_result"
    }
   ],
   "source": [
    "numRows"
   ]
  },
  {
   "cell_type": "code",
   "execution_count": 99,
   "id": "a5f21e5c",
   "metadata": {},
   "outputs": [],
   "source": [
    "varXY=(sum(xy)/numRows)-((sum(x)/numRows)*(sum(y)/numRows))"
   ]
  },
  {
   "cell_type": "code",
   "execution_count": 88,
   "id": "5f1e8a37",
   "metadata": {},
   "outputs": [],
   "source": [
    "import math"
   ]
  },
  {
   "cell_type": "code",
   "execution_count": 89,
   "id": "76647b8b",
   "metadata": {},
   "outputs": [],
   "source": [
    "varX=math.sqrt((sum(xSquare)/numRows)-((sum(x)/numRows)**2))"
   ]
  },
  {
   "cell_type": "code",
   "execution_count": 90,
   "id": "973baf2c",
   "metadata": {},
   "outputs": [],
   "source": [
    "varY=math.sqrt((sum(ySquare)/numRows)-((sum(y)/numRows)**2))"
   ]
  },
  {
   "cell_type": "code",
   "execution_count": 91,
   "id": "59828ba9",
   "metadata": {},
   "outputs": [],
   "source": [
    "pearsonCoeff=varXY/(varX*varY)"
   ]
  },
  {
   "cell_type": "code",
   "execution_count": 92,
   "id": "d4792310",
   "metadata": {},
   "outputs": [
    {
     "data": {
      "text/plain": [
       "0.05480866446582874"
      ]
     },
     "execution_count": 92,
     "metadata": {},
     "output_type": "execute_result"
    }
   ],
   "source": [
    "pearsonCoeff"
   ]
  },
  {
   "cell_type": "code",
   "execution_count": 100,
   "id": "95cf3d83",
   "metadata": {},
   "outputs": [
    {
     "data": {
      "text/html": [
       "<div>\n",
       "<style scoped>\n",
       "    .dataframe tbody tr th:only-of-type {\n",
       "        vertical-align: middle;\n",
       "    }\n",
       "\n",
       "    .dataframe tbody tr th {\n",
       "        vertical-align: top;\n",
       "    }\n",
       "\n",
       "    .dataframe thead th {\n",
       "        text-align: right;\n",
       "    }\n",
       "</style>\n",
       "<table border=\"1\" class=\"dataframe\">\n",
       "  <thead>\n",
       "    <tr style=\"text-align: right;\">\n",
       "      <th></th>\n",
       "      <th>TV</th>\n",
       "      <th>Radio</th>\n",
       "    </tr>\n",
       "  </thead>\n",
       "  <tbody>\n",
       "    <tr>\n",
       "      <th>TV</th>\n",
       "      <td>1.000000</td>\n",
       "      <td>0.054809</td>\n",
       "    </tr>\n",
       "    <tr>\n",
       "      <th>Radio</th>\n",
       "      <td>0.054809</td>\n",
       "      <td>1.000000</td>\n",
       "    </tr>\n",
       "  </tbody>\n",
       "</table>\n",
       "</div>"
      ],
      "text/plain": [
       "             TV     Radio\n",
       "TV     1.000000  0.054809\n",
       "Radio  0.054809  1.000000"
      ]
     },
     "execution_count": 100,
     "metadata": {},
     "output_type": "execute_result"
    }
   ],
   "source": [
    "data[[\"TV\",\"Radio\"]].corr()"
   ]
  },
  {
   "cell_type": "code",
   "execution_count": null,
   "id": "db6640d1",
   "metadata": {},
   "outputs": [],
   "source": []
  }
 ],
 "metadata": {
  "kernelspec": {
   "display_name": "Python 3 (ipykernel)",
   "language": "python",
   "name": "python3"
  },
  "language_info": {
   "codemirror_mode": {
    "name": "ipython",
    "version": 3
   },
   "file_extension": ".py",
   "mimetype": "text/x-python",
   "name": "python",
   "nbconvert_exporter": "python",
   "pygments_lexer": "ipython3",
   "version": "3.8.10"
  }
 },
 "nbformat": 4,
 "nbformat_minor": 5
}
