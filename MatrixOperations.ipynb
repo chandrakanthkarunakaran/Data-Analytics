{
 "cells": [
  {
   "cell_type": "raw",
   "id": "09db79b4",
   "metadata": {},
   "source": [
    "Mathematical Operations\n",
    "\n",
    "1) Regression Equation\n",
    "2) Correlation Equation\n",
    "3) Matrix Operations\n",
    "    * Addition\n",
    "    * Subtraction\n",
    "    * Multiplication   \n"
   ]
  },
  {
   "cell_type": "code",
   "execution_count": 4,
   "id": "aceb3fb4",
   "metadata": {},
   "outputs": [],
   "source": [
    "# Addition"
   ]
  },
  {
   "cell_type": "code",
   "execution_count": 5,
   "id": "adb04ab1",
   "metadata": {},
   "outputs": [],
   "source": [
    "a=[[1,2,3],[4,5,6]]\n",
    "b=[[2,4,6],[8,10,12]]"
   ]
  },
  {
   "cell_type": "code",
   "execution_count": 6,
   "id": "72f41802",
   "metadata": {},
   "outputs": [],
   "source": [
    "c=[]\n",
    "\n",
    "for rowA,rowB in zip(a,b):\n",
    "    \n",
    "    rowOutput=[rowA[i]+rowB[i] for i in range(3)]\n",
    "    \n",
    "    c.append(rowOutput)\n",
    "    "
   ]
  },
  {
   "cell_type": "code",
   "execution_count": 3,
   "id": "4fa26667",
   "metadata": {},
   "outputs": [
    {
     "data": {
      "text/plain": [
       "[[3, 6, 9], [12, 15, 18]]"
      ]
     },
     "execution_count": 3,
     "metadata": {},
     "output_type": "execute_result"
    }
   ],
   "source": [
    "c"
   ]
  },
  {
   "cell_type": "code",
   "execution_count": 7,
   "id": "b46b105b",
   "metadata": {},
   "outputs": [],
   "source": [
    "# Subtraction"
   ]
  },
  {
   "cell_type": "code",
   "execution_count": 8,
   "id": "55163aff",
   "metadata": {},
   "outputs": [],
   "source": [
    "a=[[1,2,3],[4,5,6]]\n",
    "b=[[2,4,6],[8,10,12]]"
   ]
  },
  {
   "cell_type": "code",
   "execution_count": 9,
   "id": "3f2f5204",
   "metadata": {},
   "outputs": [],
   "source": [
    "c=[]\n",
    "\n",
    "for rowA,rowB in zip(a,b):\n",
    "    \n",
    "    rowOutput=[rowA[i]-rowB[i] for i in range(3)]\n",
    "    \n",
    "    c.append(rowOutput)\n",
    "    "
   ]
  },
  {
   "cell_type": "code",
   "execution_count": 10,
   "id": "c5907dae",
   "metadata": {},
   "outputs": [
    {
     "data": {
      "text/plain": [
       "[[-1, -2, -3], [-4, -5, -6]]"
      ]
     },
     "execution_count": 10,
     "metadata": {},
     "output_type": "execute_result"
    }
   ],
   "source": [
    "c"
   ]
  },
  {
   "cell_type": "code",
   "execution_count": 12,
   "id": "904c8632",
   "metadata": {},
   "outputs": [],
   "source": [
    "# Multiplication-Scalar"
   ]
  },
  {
   "cell_type": "code",
   "execution_count": 14,
   "id": "e97be995",
   "metadata": {},
   "outputs": [],
   "source": [
    "a=[[1,2,3],[4,5,6]]\n",
    "b=2\n",
    "\n",
    "c=[]\n",
    "\n",
    "for rowA in a:\n",
    "    \n",
    "    c.append([x*b for x in rowA])\n",
    "   \n"
   ]
  },
  {
   "cell_type": "code",
   "execution_count": 15,
   "id": "e1797361",
   "metadata": {},
   "outputs": [
    {
     "data": {
      "text/plain": [
       "[[2, 4, 6], [8, 10, 12]]"
      ]
     },
     "execution_count": 15,
     "metadata": {},
     "output_type": "execute_result"
    }
   ],
   "source": [
    "c"
   ]
  },
  {
   "cell_type": "code",
   "execution_count": 16,
   "id": "a2a935f6",
   "metadata": {},
   "outputs": [],
   "source": [
    "# Multiplication - Matrix"
   ]
  },
  {
   "cell_type": "code",
   "execution_count": 38,
   "id": "367b7179",
   "metadata": {},
   "outputs": [],
   "source": [
    "a=np.array([[1,2,3],\n",
    "   [4,5,6]])\n",
    "\n",
    "b=np.array([[2,4,6],\n",
    "   [8,10,12],[1,2,3]])"
   ]
  },
  {
   "cell_type": "code",
   "execution_count": 39,
   "id": "1228b19f",
   "metadata": {},
   "outputs": [
    {
     "data": {
      "text/plain": [
       "array([[ 21,  30,  39],\n",
       "       [ 54,  78, 102]])"
      ]
     },
     "execution_count": 39,
     "metadata": {},
     "output_type": "execute_result"
    }
   ],
   "source": [
    "a@b"
   ]
  },
  {
   "cell_type": "code",
   "execution_count": null,
   "id": "10afb6e3",
   "metadata": {},
   "outputs": [],
   "source": []
  },
  {
   "cell_type": "code",
   "execution_count": 19,
   "id": "28448b35",
   "metadata": {},
   "outputs": [],
   "source": [
    "import numpy as np"
   ]
  },
  {
   "cell_type": "code",
   "execution_count": 29,
   "id": "0ce13959",
   "metadata": {},
   "outputs": [],
   "source": [
    "a=np.array([[1,2,3],\n",
    "           [4,5,6],\n",
    "           [4,5,6]])\n",
    "\n",
    "b=np.array([[ 2,4,6],\n",
    "            [8,10,12],\n",
    "            [1,2,3]])"
   ]
  },
  {
   "cell_type": "code",
   "execution_count": 30,
   "id": "90997664",
   "metadata": {},
   "outputs": [
    {
     "data": {
      "text/plain": [
       "array([[ 2,  8, 18],\n",
       "       [32, 50, 72],\n",
       "       [ 4, 10, 18]])"
      ]
     },
     "execution_count": 30,
     "metadata": {},
     "output_type": "execute_result"
    }
   ],
   "source": [
    "a*b"
   ]
  },
  {
   "cell_type": "code",
   "execution_count": 25,
   "id": "095e2247",
   "metadata": {},
   "outputs": [
    {
     "data": {
      "text/plain": [
       "array([[ 21,  30,  39],\n",
       "       [ 54,  78, 102],\n",
       "       [ 54,  78, 102]])"
      ]
     },
     "execution_count": 25,
     "metadata": {},
     "output_type": "execute_result"
    }
   ],
   "source": [
    "np.dot(a,b)"
   ]
  },
  {
   "cell_type": "code",
   "execution_count": 26,
   "id": "1bf3ea6a",
   "metadata": {},
   "outputs": [
    {
     "data": {
      "text/plain": [
       "array([[ 21,  30,  39],\n",
       "       [ 54,  78, 102],\n",
       "       [ 54,  78, 102]])"
      ]
     },
     "execution_count": 26,
     "metadata": {},
     "output_type": "execute_result"
    }
   ],
   "source": [
    "np.matmul(a,b)"
   ]
  },
  {
   "cell_type": "code",
   "execution_count": 41,
   "id": "86c4c923",
   "metadata": {},
   "outputs": [],
   "source": [
    "# Regression Equation\n",
    "# y=mx+c"
   ]
  },
  {
   "cell_type": "code",
   "execution_count": null,
   "id": "58d7ea85",
   "metadata": {},
   "outputs": [],
   "source": []
  },
  {
   "cell_type": "code",
   "execution_count": null,
   "id": "b93d9ce1",
   "metadata": {},
   "outputs": [],
   "source": []
  },
  {
   "cell_type": "code",
   "execution_count": null,
   "id": "d8a322f3",
   "metadata": {},
   "outputs": [],
   "source": []
  }
 ],
 "metadata": {
  "kernelspec": {
   "display_name": "Python 3 (ipykernel)",
   "language": "python",
   "name": "python3"
  },
  "language_info": {
   "codemirror_mode": {
    "name": "ipython",
    "version": 3
   },
   "file_extension": ".py",
   "mimetype": "text/x-python",
   "name": "python",
   "nbconvert_exporter": "python",
   "pygments_lexer": "ipython3",
   "version": "3.8.10"
  }
 },
 "nbformat": 4,
 "nbformat_minor": 5
}
