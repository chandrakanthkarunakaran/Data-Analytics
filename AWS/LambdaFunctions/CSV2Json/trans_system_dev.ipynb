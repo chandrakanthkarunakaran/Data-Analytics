{
 "cells": [
  {
   "cell_type": "code",
   "execution_count": 8,
   "metadata": {},
   "outputs": [],
   "source": [
    "import boto3\n",
    "import pandas as pd"
   ]
  },
  {
   "cell_type": "code",
   "execution_count": 9,
   "metadata": {},
   "outputs": [],
   "source": [
    "boto3.setup_default_session(profile_name='ck-pythonist')"
   ]
  },
  {
   "cell_type": "code",
   "execution_count": 7,
   "metadata": {},
   "outputs": [],
   "source": [
    "transaction={\"transactionid\":\"tr202303251425\",\"customerid\":\"ck\",\"Date\":\"2023-03-25\",\n",
    "             \"Items\":[{\"Item\":\"Apple\",\"Qty\":10,\"Rate\":25,\"Amount\":125,\"Category\":\"Fruits&Vegetables\",\"uom\":\"nos\"},\n",
    "                      {\"Item\":\"Orange\",\"Qty\":10,\"Rate\":50,\"Amount\":500,\"Category\":\"Fruits&Vegetables\",\"uom\":\"nos\"},\n",
    "                      {\"Item\":\"Badam\",\"Qty\":500,\"Rate\":1,\"Amount\":500,\"Category\":\"DryFruits&Nuts\",\"uom\":\"gms\"},\n",
    "                      {\"Item\":\"Walnut\",\"Qty\":500,\"Rate\":2,\"Amount\":1000,\"Category\":\"DryFruits&Nuts\",\"uom\":\"gms\"}\n",
    "                      ]}"
   ]
  },
  {
   "cell_type": "code",
   "execution_count": 14,
   "metadata": {},
   "outputs": [],
   "source": [
    "def TabletoDynamoDBJson(data):\n",
    "\n",
    "    \"converts dataframe to dynamodb compatible json\"\n",
    "\n",
    "    pk=\"TransactionID\"\n",
    "\n",
    "    sk=\"Item\"\n",
    "\n",
    "    if any([x not in list(data.columns) for x in [pk,sk]]):\n",
    "\n",
    "        raise Exception (\"Partition Key Or Sort Key Missing In Data\")\n",
    "    \n",
    "    dynamoDBJson=[]\n",
    "\n",
    "    for iD,row in data.iterrows():\n",
    "\n",
    "        objRow=dict(row)\n",
    "\n",
    "        objIteration={}\n",
    "\n",
    "        for key,val in objRow.items():\n",
    "\n",
    "            if type(val) in [int,float]:\n",
    "\n",
    "                objIteration[key]={\"N\":str(val)}\n",
    "            \n",
    "            elif pd.isnull(val)==True:\n",
    "\n",
    "                objIteration[key]={\"NULL\":True}\n",
    "            \n",
    "            else:\n",
    "\n",
    "                objIteration[key]={\"S\":str(val)}\n",
    "        \n",
    "        dynamoDBJson.append(objIteration)\n",
    "    \n",
    "\n",
    "    # batchwise split\n",
    "\n",
    "    batchRecords=[dynamoDBJson[n:n+20] for n in range(0, len(dynamoDBJson), 20)]\n",
    "    \n",
    "\n",
    "    return batchRecords\n"
   ]
  },
  {
   "cell_type": "code",
   "execution_count": 20,
   "metadata": {},
   "outputs": [],
   "source": [
    "def ConvertTransactionToDynamoJson(transaction):\n",
    "\n",
    "    \"converts transaction to a dynamodb compatible json\"\n",
    "\n",
    "    dynamoDB=boto3.client(\"dynamodb\",region_name=\"us-east-2\")\n",
    "\n",
    "    transactionTable=pd.DataFrame.from_dict(transaction[\"Items\"])\n",
    "\n",
    "    for key,val in transaction.items():\n",
    "\n",
    "        if key==\"Items\":\n",
    "\n",
    "            continue\n",
    "\n",
    "        transactionTable.loc[:,key]=val\n",
    "\n",
    "    # Columns    \n",
    "\n",
    "    transactionTable.columns=[x.lower() for x in list(transactionTable.columns)]\n",
    "\n",
    "    mapPKSK={\"transactionid\":\"TransactionID\",\"item\":\"Item\"}\n",
    "\n",
    "    transactionTable.rename(columns=mapPKSK,inplace=True)\n",
    "\n",
    "    # Batch DynamoDB Json\n",
    "\n",
    "    batchRecords=TabletoDynamoDBJson(transactionTable)\n",
    "\n",
    "    # Push To DynamoDB\n",
    "\n",
    "    for batch in batchRecords:\n",
    "\n",
    "        respBatchWrite=dynamoDB.batch_write_item(RequestItems={\n",
    "            \"Transactions\":[{\"PutRequest\":{\"Item\":x}} for x in batch]})\n",
    "    \n",
    "    \n",
    "\n",
    "    return {\"Status\":\"Transaction Posted To Database\"}\n"
   ]
  },
  {
   "cell_type": "code",
   "execution_count": 21,
   "metadata": {},
   "outputs": [],
   "source": [
    "status=ConvertTransactionToDynamoJson(transaction)"
   ]
  },
  {
   "cell_type": "code",
   "execution_count": 22,
   "metadata": {},
   "outputs": [
    {
     "data": {
      "text/plain": [
       "{'Status': 'Transaction Posted To Database'}"
      ]
     },
     "execution_count": 22,
     "metadata": {},
     "output_type": "execute_result"
    }
   ],
   "source": [
    "status"
   ]
  },
  {
   "cell_type": "code",
   "execution_count": 25,
   "metadata": {},
   "outputs": [],
   "source": [
    "def DynamoDBTable(transactionid):\n",
    "\n",
    "    \"retrieves transactionid from dynamoDB\"\n",
    "\n",
    "    dynamoDB=boto3.client(\"dynamodb\",region_name=\"us-east-2\")\n",
    "\n",
    "    query=\"select * from Transactions where TransactionID='%s'\"%transactionid\n",
    "\n",
    "    results=dynamoDB.execute_statement(Statement=query,Limit=1000)\n",
    "\n",
    "    return results"
   ]
  },
  {
   "cell_type": "code",
   "execution_count": 26,
   "metadata": {},
   "outputs": [],
   "source": [
    "results=DynamoDBTable(transaction[\"transactionid\"])"
   ]
  },
  {
   "cell_type": "code",
   "execution_count": 28,
   "metadata": {},
   "outputs": [
    {
     "data": {
      "text/plain": [
       "[{'uom': {'S': 'nos'},\n",
       "  'date': {'S': '2023-03-25'},\n",
       "  'rate': {'N': '25'},\n",
       "  'Item': {'S': 'Apple'},\n",
       "  'qty': {'N': '10'},\n",
       "  'category': {'S': 'Fruits&Vegetables'},\n",
       "  'amount': {'N': '125'},\n",
       "  'TransactionID': {'S': 'tr202303251425'},\n",
       "  'customerid': {'S': 'ck'}},\n",
       " {'uom': {'S': 'gms'},\n",
       "  'date': {'S': '2023-03-25'},\n",
       "  'rate': {'N': '1'},\n",
       "  'Item': {'S': 'Badam'},\n",
       "  'qty': {'N': '500'},\n",
       "  'category': {'S': 'DryFruits&Nuts'},\n",
       "  'amount': {'N': '500'},\n",
       "  'TransactionID': {'S': 'tr202303251425'},\n",
       "  'customerid': {'S': 'ck'}},\n",
       " {'uom': {'S': 'nos'},\n",
       "  'date': {'S': '2023-03-25'},\n",
       "  'rate': {'N': '50'},\n",
       "  'Item': {'S': 'Orange'},\n",
       "  'qty': {'N': '10'},\n",
       "  'category': {'S': 'Fruits&Vegetables'},\n",
       "  'amount': {'N': '500'},\n",
       "  'TransactionID': {'S': 'tr202303251425'},\n",
       "  'customerid': {'S': 'ck'}},\n",
       " {'uom': {'S': 'gms'},\n",
       "  'date': {'S': '2023-03-25'},\n",
       "  'rate': {'N': '2'},\n",
       "  'Item': {'S': 'Walnut'},\n",
       "  'qty': {'N': '500'},\n",
       "  'category': {'S': 'DryFruits&Nuts'},\n",
       "  'amount': {'N': '1000'},\n",
       "  'TransactionID': {'S': 'tr202303251425'},\n",
       "  'customerid': {'S': 'ck'}}]"
      ]
     },
     "execution_count": 28,
     "metadata": {},
     "output_type": "execute_result"
    }
   ],
   "source": [
    "results[\"Items\"]"
   ]
  },
  {
   "cell_type": "code",
   "execution_count": 29,
   "metadata": {},
   "outputs": [],
   "source": [
    "import json"
   ]
  },
  {
   "cell_type": "code",
   "execution_count": 43,
   "metadata": {},
   "outputs": [],
   "source": [
    "def Djson2HiveJson(response):\n",
    "\n",
    "    \"converts dynamodb json to hive json\"\n",
    "\n",
    "    hiveJsonL=[]\n",
    "\n",
    "    for item in response[\"Items\"]:\n",
    "\n",
    "        obj={}\n",
    "\n",
    "        for key,val in item.items():\n",
    "\n",
    "            if \"S\" in val.keys():\n",
    "\n",
    "                obj[key]=val[\"S\"]\n",
    "            \n",
    "            else:\n",
    "\n",
    "                obj[key]=float(val[\"N\"])\n",
    "        \n",
    "        hiveJsonL.append(obj)\n",
    "    \n",
    "\n",
    "    jsonH=json.dumps(hiveJsonL)\n",
    "\n",
    "    jsonH=jsonH.replace(\"}, \",\"}\\n\")\n",
    "\n",
    "    jsonH=jsonH[1:-1]\n",
    "\n",
    "    return jsonH"
   ]
  },
  {
   "cell_type": "code",
   "execution_count": 44,
   "metadata": {},
   "outputs": [],
   "source": [
    "jsonH=Djson2HiveJson(results)"
   ]
  },
  {
   "cell_type": "code",
   "execution_count": 46,
   "metadata": {},
   "outputs": [],
   "source": [
    "trans=open(\"test_trans.json\",\"w\")"
   ]
  },
  {
   "cell_type": "code",
   "execution_count": 47,
   "metadata": {},
   "outputs": [
    {
     "data": {
      "text/plain": [
       "740"
      ]
     },
     "execution_count": 47,
     "metadata": {},
     "output_type": "execute_result"
    }
   ],
   "source": [
    "trans.write(jsonH)"
   ]
  },
  {
   "cell_type": "code",
   "execution_count": 48,
   "metadata": {},
   "outputs": [],
   "source": [
    "trans.close()"
   ]
  },
  {
   "cell_type": "code",
   "execution_count": 49,
   "metadata": {},
   "outputs": [],
   "source": [
    "s3=boto3.client(\"s3\",region_name=\"us-east-2\")"
   ]
  },
  {
   "cell_type": "code",
   "execution_count": 50,
   "metadata": {},
   "outputs": [
    {
     "data": {
      "text/plain": [
       "{'ResponseMetadata': {'RequestId': 'M31YXBH0X1TGNHPM',\n",
       "  'HostId': 'SBRJ6Y+v5CmKW69H/8FVj22eWwD4a8uqNBKU+nxTpyz6uuIddwnpfeXG7hYS3FYwELgPGuqn6nQ/0SjcfvXM7A==',\n",
       "  'HTTPStatusCode': 200,\n",
       "  'HTTPHeaders': {'x-amz-id-2': 'SBRJ6Y+v5CmKW69H/8FVj22eWwD4a8uqNBKU+nxTpyz6uuIddwnpfeXG7hYS3FYwELgPGuqn6nQ/0SjcfvXM7A==',\n",
       "   'x-amz-request-id': 'M31YXBH0X1TGNHPM',\n",
       "   'date': 'Sat, 25 Mar 2023 10:18:30 GMT',\n",
       "   'x-amz-server-side-encryption': 'AES256',\n",
       "   'etag': '\"898e0f77736c701f139d6094c61eab74\"',\n",
       "   'server': 'AmazonS3',\n",
       "   'content-length': '0'},\n",
       "  'RetryAttempts': 0},\n",
       " 'ETag': '\"898e0f77736c701f139d6094c61eab74\"',\n",
       " 'ServerSideEncryption': 'AES256'}"
      ]
     },
     "execution_count": 50,
     "metadata": {},
     "output_type": "execute_result"
    }
   ],
   "source": [
    "s3.put_object(Body=jsonH,Bucket=\"data-analytics-ck\",Key=\"TransactionTable/test.json\")"
   ]
  },
  {
   "cell_type": "code",
   "execution_count": null,
   "metadata": {},
   "outputs": [],
   "source": []
  }
 ],
 "metadata": {
  "kernelspec": {
   "display_name": "Python 3",
   "language": "python",
   "name": "python3"
  },
  "language_info": {
   "codemirror_mode": {
    "name": "ipython",
    "version": 3
   },
   "file_extension": ".py",
   "mimetype": "text/x-python",
   "name": "python",
   "nbconvert_exporter": "python",
   "pygments_lexer": "ipython3",
   "version": "3.8.10"
  },
  "orig_nbformat": 4
 },
 "nbformat": 4,
 "nbformat_minor": 2
}
