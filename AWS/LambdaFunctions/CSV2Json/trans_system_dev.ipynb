{
 "cells": [
  {
   "cell_type": "code",
   "execution_count": 1,
   "metadata": {},
   "outputs": [],
   "source": [
    "import boto3\n",
    "import pandas as pd"
   ]
  },
  {
   "cell_type": "code",
   "execution_count": 2,
   "metadata": {},
   "outputs": [],
   "source": [
    "boto3.setup_default_session(profile_name='ck-pythonist')"
   ]
  },
  {
   "cell_type": "code",
   "execution_count": 40,
   "metadata": {},
   "outputs": [],
   "source": [
    "transaction={\"transactionid\":\"tr202303261455\",\"customerid\":\"kp\",\"Date\":\"2023-03-26\",\n",
    "             \"Items\":[{\"Item\":\"Apple\",\"Qty\":10,\"Rate\":25,\"Amount\":125,\"Category\":\"Fruits&Vegetables\",\"uom\":\"nos\"},\n",
    "                      {\"Item\":\"Orange\",\"Qty\":10,\"Rate\":50,\"Amount\":500,\"Category\":\"Fruits&Vegetables\",\"uom\":\"nos\"},\n",
    "                      {\"Item\":\"Badam\",\"Qty\":500,\"Rate\":1,\"Amount\":500,\"Category\":\"DryFruits&Nuts\",\"uom\":\"gms\"},\n",
    "                      {\"Item\":\"Walnut\",\"Qty\":500,\"Rate\":2,\"Amount\":1000,\"Category\":\"DryFruits&Nuts\",\"uom\":\"gms\"}\n",
    "                      ]}"
   ]
  },
  {
   "cell_type": "code",
   "execution_count": 41,
   "metadata": {},
   "outputs": [],
   "source": [
    "def TabletoDynamoDBJson(data):\n",
    "\n",
    "    \"converts dataframe to dynamodb compatible json\"\n",
    "\n",
    "    pk=\"TransactionID\"\n",
    "\n",
    "    sk=\"Item\"\n",
    "\n",
    "    if any([x not in list(data.columns) for x in [pk,sk]]):\n",
    "\n",
    "        raise Exception (\"Partition Key Or Sort Key Missing In Data\")\n",
    "    \n",
    "    dynamoDBJson=[]\n",
    "\n",
    "    for iD,row in data.iterrows():\n",
    "\n",
    "        objRow=dict(row)\n",
    "\n",
    "        objIteration={}\n",
    "\n",
    "        for key,val in objRow.items():\n",
    "\n",
    "            if type(val) in [int,float]:\n",
    "\n",
    "                objIteration[key]={\"N\":str(val)}\n",
    "            \n",
    "            elif pd.isnull(val)==True:\n",
    "\n",
    "                objIteration[key]={\"NULL\":True}\n",
    "            \n",
    "            else:\n",
    "\n",
    "                objIteration[key]={\"S\":str(val)}\n",
    "        \n",
    "        dynamoDBJson.append(objIteration)\n",
    "    \n",
    "\n",
    "    # batchwise split\n",
    "\n",
    "    batchRecords=[dynamoDBJson[n:n+20] for n in range(0, len(dynamoDBJson), 20)]\n",
    "    \n",
    "\n",
    "    return batchRecords\n"
   ]
  },
  {
   "cell_type": "code",
   "execution_count": 42,
   "metadata": {},
   "outputs": [],
   "source": [
    "def ConvertTransactionToDynamoJson(transaction):\n",
    "\n",
    "    \"converts transaction to a dynamodb compatible json\"\n",
    "\n",
    "    dynamoDB=boto3.client(\"dynamodb\",region_name=\"us-east-2\")\n",
    "\n",
    "    transactionTable=pd.DataFrame.from_dict(transaction[\"Items\"])\n",
    "\n",
    "    for key,val in transaction.items():\n",
    "\n",
    "        if key==\"Items\":\n",
    "\n",
    "            continue\n",
    "\n",
    "        transactionTable.loc[:,key]=val\n",
    "\n",
    "    # Columns    \n",
    "\n",
    "    transactionTable.columns=[x.lower() for x in list(transactionTable.columns)]\n",
    "\n",
    "    mapPKSK={\"transactionid\":\"TransactionID\",\"item\":\"Item\"}\n",
    "\n",
    "    transactionTable.rename(columns=mapPKSK,inplace=True)\n",
    "\n",
    "    # Batch DynamoDB Json\n",
    "\n",
    "    batchRecords=TabletoDynamoDBJson(transactionTable)\n",
    "\n",
    "    # Push To DynamoDB\n",
    "\n",
    "    for batch in batchRecords:\n",
    "\n",
    "        respBatchWrite=dynamoDB.batch_write_item(RequestItems={\n",
    "            \"Transactions\":[{\"PutRequest\":{\"Item\":x}} for x in batch]})\n",
    "    \n",
    "    \n",
    "\n",
    "    return {\"Status\":\"Transaction Posted To Database\"}\n"
   ]
  },
  {
   "cell_type": "code",
   "execution_count": 43,
   "metadata": {},
   "outputs": [],
   "source": [
    "status=ConvertTransactionToDynamoJson(transaction)"
   ]
  },
  {
   "cell_type": "code",
   "execution_count": 44,
   "metadata": {},
   "outputs": [
    {
     "data": {
      "text/plain": [
       "{'Status': 'Transaction Posted To Database'}"
      ]
     },
     "execution_count": 44,
     "metadata": {},
     "output_type": "execute_result"
    }
   ],
   "source": [
    "status"
   ]
  },
  {
   "cell_type": "code",
   "execution_count": 45,
   "metadata": {},
   "outputs": [],
   "source": [
    "def DynamoDBTable(transactionid):\n",
    "\n",
    "    \"retrieves transactionid from dynamoDB\"\n",
    "\n",
    "    dynamoDB=boto3.client(\"dynamodb\",region_name=\"us-east-2\")\n",
    "\n",
    "    query=\"select * from Transactions where TransactionID='%s'\"%transactionid\n",
    "\n",
    "    results=dynamoDB.execute_statement(Statement=query,Limit=1000)\n",
    "\n",
    "    return results"
   ]
  },
  {
   "cell_type": "code",
   "execution_count": 46,
   "metadata": {},
   "outputs": [],
   "source": [
    "results=DynamoDBTable(transaction[\"transactionid\"])"
   ]
  },
  {
   "cell_type": "code",
   "execution_count": 47,
   "metadata": {},
   "outputs": [
    {
     "data": {
      "text/plain": [
       "[{'uom': {'S': 'nos'},\n",
       "  'date': {'S': '2023-03-26'},\n",
       "  'rate': {'N': '25'},\n",
       "  'Item': {'S': 'Apple'},\n",
       "  'qty': {'N': '10'},\n",
       "  'category': {'S': 'Fruits&Vegetables'},\n",
       "  'amount': {'N': '125'},\n",
       "  'TransactionID': {'S': 'tr202303261455'},\n",
       "  'customerid': {'S': 'kp'}},\n",
       " {'uom': {'S': 'gms'},\n",
       "  'date': {'S': '2023-03-26'},\n",
       "  'rate': {'N': '1'},\n",
       "  'Item': {'S': 'Badam'},\n",
       "  'qty': {'N': '500'},\n",
       "  'category': {'S': 'DryFruits&Nuts'},\n",
       "  'amount': {'N': '500'},\n",
       "  'TransactionID': {'S': 'tr202303261455'},\n",
       "  'customerid': {'S': 'kp'}},\n",
       " {'uom': {'S': 'nos'},\n",
       "  'date': {'S': '2023-03-26'},\n",
       "  'rate': {'N': '50'},\n",
       "  'Item': {'S': 'Orange'},\n",
       "  'qty': {'N': '10'},\n",
       "  'category': {'S': 'Fruits&Vegetables'},\n",
       "  'amount': {'N': '500'},\n",
       "  'TransactionID': {'S': 'tr202303261455'},\n",
       "  'customerid': {'S': 'kp'}},\n",
       " {'uom': {'S': 'gms'},\n",
       "  'date': {'S': '2023-03-26'},\n",
       "  'rate': {'N': '2'},\n",
       "  'Item': {'S': 'Walnut'},\n",
       "  'qty': {'N': '500'},\n",
       "  'category': {'S': 'DryFruits&Nuts'},\n",
       "  'amount': {'N': '1000'},\n",
       "  'TransactionID': {'S': 'tr202303261455'},\n",
       "  'customerid': {'S': 'kp'}}]"
      ]
     },
     "execution_count": 47,
     "metadata": {},
     "output_type": "execute_result"
    }
   ],
   "source": [
    "results[\"Items\"]"
   ]
  },
  {
   "cell_type": "code",
   "execution_count": 48,
   "metadata": {},
   "outputs": [],
   "source": [
    "import json"
   ]
  },
  {
   "cell_type": "code",
   "execution_count": 49,
   "metadata": {},
   "outputs": [],
   "source": [
    "def Djson2HiveJson(response):\n",
    "\n",
    "    \"converts dynamodb json to hive json\"\n",
    "\n",
    "    hiveJsonL=[]\n",
    "\n",
    "    for item in response[\"Items\"]:\n",
    "\n",
    "        obj={}\n",
    "\n",
    "        for key,val in item.items():\n",
    "\n",
    "            if \"S\" in val.keys():\n",
    "\n",
    "                obj[key]=val[\"S\"]\n",
    "            \n",
    "            else:\n",
    "\n",
    "                obj[key]=float(val[\"N\"])\n",
    "        \n",
    "        hiveJsonL.append(obj)\n",
    "    \n",
    "\n",
    "    jsonH=json.dumps(hiveJsonL)\n",
    "\n",
    "    jsonH=jsonH.replace(\"}, \",\"}\\n\")\n",
    "\n",
    "    jsonH=jsonH[1:-1]\n",
    "\n",
    "    \n",
    "\n",
    "    return jsonH"
   ]
  },
  {
   "cell_type": "code",
   "execution_count": 50,
   "metadata": {},
   "outputs": [],
   "source": [
    "jsonH=Djson2HiveJson(results)"
   ]
  },
  {
   "cell_type": "code",
   "execution_count": 20,
   "metadata": {},
   "outputs": [],
   "source": [
    "s3=boto3.client(\"s3\",region_name=\"us-east-2\")"
   ]
  },
  {
   "cell_type": "code",
   "execution_count": 52,
   "metadata": {},
   "outputs": [
    {
     "data": {
      "text/plain": [
       "{'transactionid': 'tr202303261455',\n",
       " 'customerid': 'kp',\n",
       " 'Date': '2023-03-26',\n",
       " 'Items': [{'Item': 'Apple',\n",
       "   'Qty': 10,\n",
       "   'Rate': 25,\n",
       "   'Amount': 125,\n",
       "   'Category': 'Fruits&Vegetables',\n",
       "   'uom': 'nos'},\n",
       "  {'Item': 'Orange',\n",
       "   'Qty': 10,\n",
       "   'Rate': 50,\n",
       "   'Amount': 500,\n",
       "   'Category': 'Fruits&Vegetables',\n",
       "   'uom': 'nos'},\n",
       "  {'Item': 'Badam',\n",
       "   'Qty': 500,\n",
       "   'Rate': 1,\n",
       "   'Amount': 500,\n",
       "   'Category': 'DryFruits&Nuts',\n",
       "   'uom': 'gms'},\n",
       "  {'Item': 'Walnut',\n",
       "   'Qty': 500,\n",
       "   'Rate': 2,\n",
       "   'Amount': 1000,\n",
       "   'Category': 'DryFruits&Nuts',\n",
       "   'uom': 'gms'}]}"
      ]
     },
     "execution_count": 52,
     "metadata": {},
     "output_type": "execute_result"
    }
   ],
   "source": [
    "transaction"
   ]
  },
  {
   "cell_type": "code",
   "execution_count": 53,
   "metadata": {},
   "outputs": [
    {
     "data": {
      "text/plain": [
       "{'ResponseMetadata': {'RequestId': '86JZFV27E83N9H9W',\n",
       "  'HostId': 'XN15Aujji0K//kyX4rY/P35IlOOYYeWEK5twSYh/kThcaBNMRd3iNXuqB31kjYjAAz4BbB8K8Hw=',\n",
       "  'HTTPStatusCode': 200,\n",
       "  'HTTPHeaders': {'x-amz-id-2': 'XN15Aujji0K//kyX4rY/P35IlOOYYeWEK5twSYh/kThcaBNMRd3iNXuqB31kjYjAAz4BbB8K8Hw=',\n",
       "   'x-amz-request-id': '86JZFV27E83N9H9W',\n",
       "   'date': 'Sun, 26 Mar 2023 09:27:28 GMT',\n",
       "   'x-amz-server-side-encryption': 'AES256',\n",
       "   'etag': '\"a4f8024b953da45a45d3d5ba85ced9a7\"',\n",
       "   'server': 'AmazonS3',\n",
       "   'content-length': '0'},\n",
       "  'RetryAttempts': 0},\n",
       " 'ETag': '\"a4f8024b953da45a45d3d5ba85ced9a7\"',\n",
       " 'ServerSideEncryption': 'AES256'}"
      ]
     },
     "execution_count": 53,
     "metadata": {},
     "output_type": "execute_result"
    }
   ],
   "source": [
    "s3.put_object(Body=jsonH,Bucket=\"data-analytics-ck\",\n",
    "              Key=\"TransactionTable/%s.json\"%transaction[\"transactionid\"])"
   ]
  },
  {
   "cell_type": "code",
   "execution_count": null,
   "metadata": {},
   "outputs": [],
   "source": []
  },
  {
   "attachments": {},
   "cell_type": "markdown",
   "metadata": {},
   "source": [
    "# 3. Lambda Function (Run SQL Queries On Top Of Athena Table)"
   ]
  },
  {
   "attachments": {},
   "cell_type": "markdown",
   "metadata": {},
   "source": []
  },
  {
   "cell_type": "code",
   "execution_count": 54,
   "metadata": {},
   "outputs": [],
   "source": [
    "query='''select date as \"Transaction Date\",\n",
    "\titem as \"Item\",\n",
    "\tcount (distinct transactionid) as \"Num Of Transactions\",\n",
    "\tcount(distinct customerid) as \"Num Of Customer ID\",\n",
    "\tsum(qty) as \"Sold Units\",\n",
    "\tsum(amount) as \"Revenue\"\n",
    "from transactions\n",
    "group by date,\n",
    "\titem,\n",
    "\ttransactionid,\n",
    "\tcustomerid'''"
   ]
  },
  {
   "cell_type": "code",
   "execution_count": 55,
   "metadata": {},
   "outputs": [
    {
     "name": "stdout",
     "output_type": "stream",
     "text": [
      "select date as \"Transaction Date\",\n",
      "\titem as \"Item\",\n",
      "\tcount (distinct transactionid) as \"Num Of Transactions\",\n",
      "\tcount(distinct customerid) as \"Num Of Customer ID\",\n",
      "\tsum(qty) as \"Sold Units\",\n",
      "\tsum(amount) as \"Revenue\"\n",
      "from transactions\n",
      "group by date,\n",
      "\titem,\n",
      "\ttransactionid,\n",
      "\tcustomerid\n"
     ]
    }
   ],
   "source": [
    "print(query)"
   ]
  },
  {
   "cell_type": "code",
   "execution_count": null,
   "metadata": {},
   "outputs": [],
   "source": []
  },
  {
   "cell_type": "code",
   "execution_count": 24,
   "metadata": {},
   "outputs": [],
   "source": [
    "athena=boto3.client(\"athena\",region_name=\"us-east-2\")"
   ]
  },
  {
   "cell_type": "code",
   "execution_count": 25,
   "metadata": {},
   "outputs": [],
   "source": [
    "outputLocation=\"\""
   ]
  },
  {
   "cell_type": "code",
   "execution_count": 56,
   "metadata": {},
   "outputs": [],
   "source": [
    "import pandas as pd"
   ]
  },
  {
   "cell_type": "code",
   "execution_count": 27,
   "metadata": {},
   "outputs": [
    {
     "data": {
      "text/plain": [
       "'16798414193780220000000000000000000'"
      ]
     },
     "execution_count": 27,
     "metadata": {},
     "output_type": "execute_result"
    }
   ],
   "source": [
    "str(pd.Timestamp.now().value).ljust(35,\"0\")"
   ]
  },
  {
   "cell_type": "code",
   "execution_count": 29,
   "metadata": {},
   "outputs": [],
   "source": [
    "respSQL=athena.start_query_execution(QueryString=query,\n",
    "    ClientRequestToken=str(pd.Timestamp.now().value).ljust(35,\"0\"),\n",
    "    QueryExecutionContext={\n",
    "        'Database': 'transactionsystem',\n",
    "        'Catalog': 'awsdatacatalog'\n",
    "    },\n",
    "    ResultConfiguration={\n",
    "        'OutputLocation': 's3://data-analytics-ck/DailySalesReport/'\n",
    "    })"
   ]
  },
  {
   "cell_type": "code",
   "execution_count": 30,
   "metadata": {},
   "outputs": [
    {
     "data": {
      "text/plain": [
       "{'QueryExecutionId': 'a8069a51-ca93-4b0c-92d9-da0371cbce98',\n",
       " 'ResponseMetadata': {'RequestId': 'b2c84382-2064-48f4-84c8-dc3b88e905ce',\n",
       "  'HTTPStatusCode': 200,\n",
       "  'HTTPHeaders': {'date': 'Sun, 26 Mar 2023 09:13:59 GMT',\n",
       "   'content-type': 'application/x-amz-json-1.1',\n",
       "   'content-length': '59',\n",
       "   'connection': 'keep-alive',\n",
       "   'x-amzn-requestid': 'b2c84382-2064-48f4-84c8-dc3b88e905ce'},\n",
       "  'RetryAttempts': 0}}"
      ]
     },
     "execution_count": 30,
     "metadata": {},
     "output_type": "execute_result"
    }
   ],
   "source": [
    "respSQL"
   ]
  },
  {
   "cell_type": "code",
   "execution_count": 31,
   "metadata": {},
   "outputs": [
    {
     "data": {
      "text/plain": [
       "'DailySalesReport/a8069a51-ca93-4b0c-92d9-da0371cbce98.csv'"
      ]
     },
     "execution_count": 31,
     "metadata": {},
     "output_type": "execute_result"
    }
   ],
   "source": [
    "\"DailySalesReport/\"+respSQL[\"QueryExecutionId\"]+'.csv'"
   ]
  },
  {
   "cell_type": "code",
   "execution_count": 34,
   "metadata": {},
   "outputs": [
    {
     "data": {
      "text/plain": [
       "'2023-03-26'"
      ]
     },
     "execution_count": 34,
     "metadata": {},
     "output_type": "execute_result"
    }
   ],
   "source": [
    "str(pd.Timestamp.now())[:10]"
   ]
  },
  {
   "cell_type": "code",
   "execution_count": 57,
   "metadata": {},
   "outputs": [],
   "source": [
    "def DailyReportGeneration():\n",
    "\n",
    "    \"runs athena query and generates daily sales report\"\n",
    "\n",
    "    currentDate=str(pd.Timestamp.now())[:10]\n",
    "\n",
    "    # Report Generation Query\n",
    "\n",
    "    query='''select date as \"Transaction Date\",\n",
    "                item as \"Item\",\n",
    "                count (distinct transactionid) as \"Num Of Transactions\",\n",
    "                count(distinct customerid) as \"Num Of Customer ID\",\n",
    "                sum(qty) as \"Sold Units\",\n",
    "                sum(amount) as \"Revenue\"\n",
    "            from transactions\n",
    "            where date=date('%s')\n",
    "            group by date,\n",
    "                item,\n",
    "                transactionid,\n",
    "                customerid'''%currentDate\n",
    "\n",
    "    # Run Query On Athena\n",
    "\n",
    "    respSQL=athena.start_query_execution(QueryString=query,\n",
    "            ClientRequestToken=str(pd.Timestamp.now().value).ljust(35,\"0\"),\n",
    "            QueryExecutionContext={\n",
    "                'Database': 'transactionsystem',\n",
    "                'Catalog': 'awsdatacatalog'\n",
    "            },\n",
    "            ResultConfiguration={\n",
    "                'OutputLocation': 's3://data-analytics-ck/DailySalesReport/'\n",
    "            })\n",
    "    \n",
    "    # Output Location\n",
    "\n",
    "    opLocation= 's3://data-analytics-ck/DailySalesReport/'+respSQL[\"QueryExecutionId\"]+'.csv'\n",
    "    \n",
    "\n",
    "    return {\"Status\":\"Report Generated Successfully\",\n",
    "            \"Report Date\":currentDate,\n",
    "            \"File Location\":opLocation}\n",
    "\n",
    "    \n",
    "    \n"
   ]
  },
  {
   "cell_type": "code",
   "execution_count": 58,
   "metadata": {},
   "outputs": [
    {
     "data": {
      "text/plain": [
       "{'Status': 'Report Generated Successfully',\n",
       " 'Report Date': '2023-03-26',\n",
       " 'File Location': 's3://data-analytics-ck/DailySalesReport/5a02482c-8b33-46ca-bc4a-e18e49da802f.csv'}"
      ]
     },
     "execution_count": 58,
     "metadata": {},
     "output_type": "execute_result"
    }
   ],
   "source": [
    "DailyReportGeneration()"
   ]
  },
  {
   "cell_type": "code",
   "execution_count": null,
   "metadata": {},
   "outputs": [],
   "source": []
  }
 ],
 "metadata": {
  "kernelspec": {
   "display_name": "Python 3",
   "language": "python",
   "name": "python3"
  },
  "language_info": {
   "codemirror_mode": {
    "name": "ipython",
    "version": 3
   },
   "file_extension": ".py",
   "mimetype": "text/x-python",
   "name": "python",
   "nbconvert_exporter": "python",
   "pygments_lexer": "ipython3",
   "version": "3.8.10"
  },
  "orig_nbformat": 4
 },
 "nbformat": 4,
 "nbformat_minor": 2
}
